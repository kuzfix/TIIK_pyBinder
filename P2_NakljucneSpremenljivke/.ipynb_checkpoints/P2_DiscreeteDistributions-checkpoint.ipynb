{
 "cells": [
  {
   "cell_type": "markdown",
   "metadata": {},
   "source": [
    "### Jupyterlab magic\n",
    "Spodnja celica uvozi vse knjižnice in pripravi nastavitve, ki jih potrebujemo kasneje za računanje in risanje. Poženi pred čemerkoli drugim"
   ]
  },
  {
   "cell_type": "code",
   "execution_count": 1,
   "metadata": {},
   "outputs": [],
   "source": [
    "from math import factorial as fact\n",
    "from math import exp\n",
    "from matplotlib import pyplot as plt\n",
    "%matplotlib inline"
   ]
  },
  {
   "cell_type": "markdown",
   "metadata": {},
   "source": [
    "# Enakomerna porazdelitev\n",
    "\n",
    "Verjetnost za vse elementarne dogodke je enaka, zato je verjetnost vsakega dogodka inverzno proporcionalna številu vseh možnih dogodkov N.\n",
    "\n",
    "$ P_X(x_i) = \\frac{1}{N} $\n",
    "\n",
    "Primer izračuna za eno vrednost:"
   ]
  },
  {
   "cell_type": "code",
   "execution_count": 2,
   "metadata": {},
   "outputs": [
    {
     "name": "stdout",
     "output_type": "stream",
     "text": [
      "0.2\n"
     ]
    }
   ],
   "source": [
    "N=5\n",
    "P=1/N\n",
    "print(P)"
   ]
  },
  {
   "cell_type": "markdown",
   "metadata": {},
   "source": [
    "Graf:"
   ]
  },
  {
   "cell_type": "code",
   "execution_count": 3,
   "metadata": {},
   "outputs": [
    {
     "name": "stderr",
     "output_type": "stream",
     "text": [
      "C:\\Users\\maticpi\\Anaconda3\\lib\\site-packages\\ipykernel_launcher.py:14: UserWarning: In Matplotlib 3.3 individual lines on a stem plot will be added as a LineCollection instead of individual lines. This significantly improves the performance of a stem plot. To remove this warning and switch to the new behaviour, set the \"use_line_collection\" keyword argument to True.\n",
      "  \n"
     ]
    },
    {
     "data": {
      "text/plain": [
       "Text(0.5, 0, 'število pik $x_i$')"
      ]
     },
     "execution_count": 3,
     "metadata": {},
     "output_type": "execute_result"
    },
    {
     "data": {
      "image/png": "[encoded data removed]",
      "text/plain": [
       "<Figure size 432x288 with 1 Axes>"
      ]
     },
     "metadata": {
      "needs_background": "light"
     },
     "output_type": "display_data"
    }
   ],
   "source": [
    "def Px(x):\n",
    "    xi=[1,2,3,4,5,6]\n",
    "    N=len(xi)\n",
    "    if x in xi:\n",
    "        return 1/N\n",
    "    else:\n",
    "        return 0\n",
    "    \n",
    "x=[-2,-1,0,1,2,3,4,5,6,7,8,9]\n",
    "P=list()\n",
    "for xi in x:\n",
    "    P.append(Px(xi))\n",
    "\n",
    "plt.stem(x,P)\n",
    "plt.ylabel(r'verjetnost $P_X(k)$')\n",
    "plt.xlabel(r'število pik $x_i$')\n"
   ]
  },
  {
   "cell_type": "markdown",
   "metadata": {},
   "source": [
    "# Binomska ali Bernoullijeva porazdelitev\n",
    "\n",
    "Verjetnost števila pozitivnih izidov poskusa z dvema izidoma, pri določenem številu zaporednih poskusov.\n",
    "- *N* – število vseh poskusov\n",
    "- *k* – število pozitivnih izidov\n",
    "- *p* – verjetnost pozitivnega izida v enem poskusu\n",
    "\n",
    "$ P_X(k)   = {N \\choose k} p^k (1-p)^{ N-k} $\n",
    "\n",
    "Primer izračuna za eno vrednost:"
   ]
  },
  {
   "cell_type": "code",
   "execution_count": 13,
   "metadata": {},
   "outputs": [
    {
     "name": "stdout",
     "output_type": "stream",
     "text": [
      "0.03215020576131687\n"
     ]
    }
   ],
   "source": [
    "N=5\n",
    "k=3\n",
    "p=1/6\n",
    "P = fact(N)/(fact(N-k)*fact(k))*(p**k)*(1-p)**(N-k)\n",
    "print(P)"
   ]
  },
  {
   "cell_type": "markdown",
   "metadata": {},
   "source": [
    "Graf:"
   ]
  },
  {
   "cell_type": "code",
   "execution_count": 42,
   "metadata": {},
   "outputs": [
    {
     "data": {
      "text/plain": [
       "Text(0.5, 0, 'število šestic $k$ v $N$ metih kocke')"
      ]
     },
     "execution_count": 42,
     "metadata": {},
     "output_type": "execute_result"
    },
    {
     "data": {
      "image/png": "[encoded data removed]",
      "text/plain": [
       "<Figure size 432x288 with 1 Axes>"
      ]
     },
     "metadata": {
      "needs_background": "light"
     },
     "output_type": "display_data"
    }
   ],
   "source": [
    "def Px(N,k,p):\n",
    "    return fact(N)/(fact(N-k)*fact(k))*(p**k)*(1-p)**(N-k)\n",
    "    \n",
    "N=5\n",
    "p=1/6\n",
    "k=[0,1,2,3,4,5]\n",
    "P=list()\n",
    "for ki in k:\n",
    "    P.append(Px(N,ki,p))\n",
    "\n",
    "plt.stem(k,P)\n",
    "plt.ylabel(r'verjetnost $P_X(k)$')\n",
    "plt.xlabel(r'število šestic $k$ v $N$ metih kocke')\n"
   ]
  },
  {
   "cell_type": "markdown",
   "metadata": {},
   "source": [
    "# Poissonova porazdelitev\n",
    "\n",
    "Verjetnost števila dogodkov v določenem času, če je znana povprečna frekvenca (pogostost) teh dogodkov \n",
    "- *λ* – povprečna pogostost dogodka\n",
    "- *k* – število dogodkov\n",
    "\n",
    "$ {P_X}\\left( k \\right) = {\\lambda ^k}\\frac{{{e^{ - \\lambda }}}}{{k!}} $\n",
    "\n",
    "Primer izračuna za eno vrednost:"
   ]
  },
  {
   "cell_type": "code",
   "execution_count": 22,
   "metadata": {},
   "outputs": [
    {
     "name": "stdout",
     "output_type": "stream",
     "text": [
      "0.3032653298563167\n"
     ]
    }
   ],
   "source": [
    "l=0.5 #0.5 neviht s točo na leto\n",
    "k=1 #računamo verjetnost, da bo letos ena nevihta s točo\n",
    "P = l**k * exp(-l)/fact(k)\n",
    "print(P)"
   ]
  },
  {
   "cell_type": "markdown",
   "metadata": {},
   "source": [
    "Graf:"
   ]
  },
  {
   "cell_type": "code",
   "execution_count": 44,
   "metadata": {},
   "outputs": [
    {
     "data": {
      "text/plain": [
       "Text(0.5, 0, 'število neviht s točo $k$')"
      ]
     },
     "execution_count": 44,
     "metadata": {},
     "output_type": "execute_result"
    },
    {
     "data": {
      "image/png": "[encoded data removed]",
      "text/plain": [
       "<Figure size 432x288 with 1 Axes>"
      ]
     },
     "metadata": {
      "needs_background": "light"
     },
     "output_type": "display_data"
    }
   ],
   "source": [
    "def Px(l,k):\n",
    "    return ((l**k) * exp(-l)/fact(k))\n",
    "    \n",
    "l=0.5\n",
    "k=[0,1,2,3,4,5]\n",
    "P=list()\n",
    "for ki in k:\n",
    "    P.append(Px(l,ki))\n",
    "\n",
    "plt.stem(k,P)\n",
    "plt.ylabel(r'verjetnost $P_X(k)$')\n",
    "plt.xlabel(r'število neviht s točo $k$')\n",
    "#plt.title('dfg')"
   ]
  }
 ],
 "metadata": {
  "kernelspec": {
   "display_name": "Python 3",
   "language": "python",
   "name": "python3"
  },
  "language_info": {
   "codemirror_mode": {
    "name": "ipython",
    "version": 3
   },
   "file_extension": ".py",
   "mimetype": "text/x-python",
   "name": "python",
   "nbconvert_exporter": "python",
   "pygments_lexer": "ipython3",
   "version": "3.7.7"
  }
 },
 "nbformat": 4,
 "nbformat_minor": 4
}
