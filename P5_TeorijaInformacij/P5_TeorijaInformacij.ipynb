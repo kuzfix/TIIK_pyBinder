{
 "cells": [
  {
   "cell_type": "markdown",
   "metadata": {},
   "source": [
    "### Jupyterlab magic\n",
    "Spodnja celica uvozi vse knjižnice (mogoče tudi kakšno preveč) in pripravi nastavitve, ki jih potrebujemo kasneje za računanje in risanje. Poženi pred čemerkoli drugim"
   ]
  },
  {
   "cell_type": "code",
   "execution_count": 1,
   "metadata": {},
   "outputs": [
    {
     "name": "stderr",
     "output_type": "stream",
     "text": [
      "In C:\\Users\\maticpi\\Anaconda3\\lib\\site-packages\\matplotlib\\mpl-data\\stylelib\\_classic_test.mplstyle: \n",
      "The text.latex.preview rcparam was deprecated in Matplotlib 3.3 and will be removed two minor releases later.\n",
      "In C:\\Users\\maticpi\\Anaconda3\\lib\\site-packages\\matplotlib\\mpl-data\\stylelib\\_classic_test.mplstyle: \n",
      "The mathtext.fallback_to_cm rcparam was deprecated in Matplotlib 3.3 and will be removed two minor releases later.\n",
      "In C:\\Users\\maticpi\\Anaconda3\\lib\\site-packages\\matplotlib\\mpl-data\\stylelib\\_classic_test.mplstyle: Support for setting the 'mathtext.fallback_to_cm' rcParam is deprecated since 3.3 and will be removed two minor releases later; use 'mathtext.fallback : 'cm' instead.\n",
      "In C:\\Users\\maticpi\\Anaconda3\\lib\\site-packages\\matplotlib\\mpl-data\\stylelib\\_classic_test.mplstyle: \n",
      "The validate_bool_maybe_none function was deprecated in Matplotlib 3.3 and will be removed two minor releases later.\n",
      "In C:\\Users\\maticpi\\Anaconda3\\lib\\site-packages\\matplotlib\\mpl-data\\stylelib\\_classic_test.mplstyle: \n",
      "The savefig.jpeg_quality rcparam was deprecated in Matplotlib 3.3 and will be removed two minor releases later.\n",
      "In C:\\Users\\maticpi\\Anaconda3\\lib\\site-packages\\matplotlib\\mpl-data\\stylelib\\_classic_test.mplstyle: \n",
      "The keymap.all_axes rcparam was deprecated in Matplotlib 3.3 and will be removed two minor releases later.\n",
      "In C:\\Users\\maticpi\\Anaconda3\\lib\\site-packages\\matplotlib\\mpl-data\\stylelib\\_classic_test.mplstyle: \n",
      "The animation.avconv_path rcparam was deprecated in Matplotlib 3.3 and will be removed two minor releases later.\n",
      "In C:\\Users\\maticpi\\Anaconda3\\lib\\site-packages\\matplotlib\\mpl-data\\stylelib\\_classic_test.mplstyle: \n",
      "The animation.avconv_args rcparam was deprecated in Matplotlib 3.3 and will be removed two minor releases later.\n"
     ]
    }
   ],
   "source": [
    "from math import pi\n",
    "from numpy import *\n",
    "from ipywidgets import *\n",
    "from matplotlib import pyplot as plt\n",
    "from matplotlib import rcParams as MpRcParams\n",
    "from scipy.constants import *\n",
    "MpRcParams['mathtext.fontset'] = 'cm'\n",
    "MpRcParams['mathtext.rm'] = 'serif'\n",
    "%matplotlib inline"
   ]
  },
  {
   "cell_type": "markdown",
   "metadata": {},
   "source": [
    "# Primer izračuna entropije"
   ]
  },
  {
   "cell_type": "code",
   "execution_count": 5,
   "metadata": {},
   "outputs": [
    {
     "data": {
      "text/plain": [
       "1.295461844238322"
      ]
     },
     "execution_count": 5,
     "metadata": {},
     "output_type": "execute_result"
    }
   ],
   "source": [
    "P=array([.1, .6, .3])\n",
    "I=-log2(P)\n",
    "H=sum(P*I)\n",
    "H"
   ]
  },
  {
   "cell_type": "markdown",
   "metadata": {},
   "source": [
    "# Entropija binarnega vira\n",
    "\n",
    "Interval spremenljivke p ne gre čisto od 0 in čisto do 1, ker je informacija za enega od obeh simbolov na teh dveh mejah neskončna, kar predstavlja problem za numerične programe."
   ]
  },
  {
   "cell_type": "code",
   "execution_count": 9,
   "metadata": {},
   "outputs": [
    {
     "data": {
      "text/plain": [
       "Text(0.5, 0, '$p$')"
      ]
     },
     "execution_count": 9,
     "metadata": {},
     "output_type": "execute_result"
    },
    {
     "data": {
      "image/png": "[encoded data removed]",
      "text/plain": [
       "<Figure size 432x288 with 1 Axes>"
      ]
     },
     "metadata": {
      "needs_background": "light"
     },
     "output_type": "display_data"
    }
   ],
   "source": [
    "p=linspace(1e-6,1-1e-6,1000)\n",
    "H=-p*log2(p)-(1-p)*log2(1-p)\n",
    "\n",
    "#Risanje    \n",
    "fig1, ax1 = plt.subplots()\n",
    "ax1.plot(p,H)\n",
    "ax1.axhline(0, color='black', lw=1)\n",
    "ax1.axvline(0, color='black', lw=1)\n",
    "ax1.set_ylabel(r'$H_X(p)$', fontsize = 18)\n",
    "ax1.set_xlabel(r'$p$', fontsize = 18)\n"
   ]
  },
  {
   "cell_type": "markdown",
   "metadata": {},
   "source": [
    "# Izhodišča za dokaz maksimalne entropije\n",
    "\n",
    "$\\ln \\left( x \\right) \\leqslant x - 1$   ;   $x > 0$"
   ]
  },
  {
   "cell_type": "code",
   "execution_count": 43,
   "metadata": {},
   "outputs": [
    {
     "data": {
      "image/png": "[encoded data removed]",
      "text/plain": [
       "<Figure size 360x360 with 1 Axes>"
      ]
     },
     "metadata": {
      "needs_background": "light"
     },
     "output_type": "display_data"
    }
   ],
   "source": [
    "x=linspace(0.05,5,1000)\n",
    "y1=log(x)\n",
    "y2=x-1\n",
    "\n",
    "#Risanje    \n",
    "fig1, ax1 = plt.subplots(figsize=(5,5))\n",
    "ax1.plot(x,y1,label='$\\ln(x)$')\n",
    "ax1.plot(x,y2,label='$x-1$')\n",
    "ax1.legend(fontsize = 16)\n",
    "ax1.axhline(0, color='black', lw=1)\n",
    "ax1.axvline(0, color='black', lw=1)\n",
    "ax1.set_ylabel(r'$y$', fontsize = 18)\n",
    "ax1.set_xlabel(r'$x$', fontsize = 18)\n",
    "ax1.set_aspect('equal', adjustable='box')"
   ]
  },
  {
   "cell_type": "markdown",
   "metadata": {},
   "source": [
    "# Preizkus trditve: ${H_Y} \\leqslant \\sum\\limits_{i = 1}^L {{P_Y}\\left( {{y_i}} \\right)\\ln \\left( {\\frac{1}{{{P_X}\\left( {{x_i}} \\right)}}} \\right)} $"
   ]
  },
  {
   "cell_type": "code",
   "execution_count": 80,
   "metadata": {},
   "outputs": [
    {
     "data": {
      "text/plain": [
       "array([0.2, 0.2, 0.2, 0.2, 0.2])"
      ]
     },
     "metadata": {},
     "output_type": "display_data"
    },
    {
     "data": {
      "text/plain": [
       "array([0.06666667, 0.13333333, 0.2       , 0.26666667, 0.33333333])"
      ]
     },
     "metadata": {},
     "output_type": "display_data"
    },
    {
     "data": {
      "text/plain": [
       "array([0.0625, 0.3125, 0.1875, 0.3125, 0.125 ])"
      ]
     },
     "metadata": {},
     "output_type": "display_data"
    },
    {
     "data": {
      "text/plain": [
       "array([0.00086505, 0.00432526, 0.0432526 , 0.08650519, 0.8650519 ])"
      ]
     },
     "metadata": {},
     "output_type": "display_data"
    },
    {
     "data": {
      "text/plain": [
       "'H1=2.322, P1log(P2)=2.526, P1log(P3)=2.554, P1log(P4)=5.26'"
      ]
     },
     "metadata": {},
     "output_type": "display_data"
    },
    {
     "data": {
      "text/plain": [
       "'H2=2.149, P2log(P1)=2.322, P2log(P3)=2.421, P2log(P4)=3.643'"
      ]
     },
     "metadata": {},
     "output_type": "display_data"
    },
    {
     "data": {
      "text/plain": [
       "'H3=2.127, P3log(P1)=2.322, P3log(P2)=2.382, P3log(P4)=5.069'"
      ]
     },
     "metadata": {},
     "output_type": "display_data"
    },
    {
     "data": {
      "text/plain": [
       "'H4=0.7251, P4log(P1)=2.322, P4log(P2)=1.652, P4log(P3)=2.855'"
      ]
     },
     "metadata": {},
     "output_type": "display_data"
    }
   ],
   "source": [
    "L=5\n",
    "P1=ones(L)/L\n",
    "P2=cumsum(P1)\n",
    "P2=P2/sum(P2)\n",
    "P3=array([1,5,3,5,2])\n",
    "P3=P3/sum(P3)\n",
    "P4=array([1,5,50,100,1000])\n",
    "P4=P4/sum(P4)\n",
    "\n",
    "H1 = -sum(P1*log2(P1))\n",
    "P1logP2 =  -sum(P1*log2(P2))\n",
    "P1logP3 =  -sum(P1*log2(P3))\n",
    "P1logP4 =  -sum(P1*log2(P4))\n",
    "\n",
    "H2 = -sum(P2*log2(P2))\n",
    "P2logP1 =  -sum(P2*log2(P1))\n",
    "P2logP3 =  -sum(P2*log2(P3))\n",
    "P2logP4 =  -sum(P2*log2(P4))\n",
    "\n",
    "H3 = -sum(P3*log2(P3))\n",
    "P3logP1 =  -sum(P3*log2(P1))\n",
    "P3logP2 =  -sum(P3*log2(P2))\n",
    "P3logP4 =  -sum(P3*log2(P4))\n",
    "\n",
    "H4 = -sum(P4*log2(P4))\n",
    "P4logP1 =  -sum(P4*log2(P1))\n",
    "P4logP2 =  -sum(P4*log2(P2))\n",
    "P4logP3 =  -sum(P4*log2(P3))\n",
    "\n",
    "display(P1)\n",
    "display(P2)\n",
    "display(P3)\n",
    "display(P4)\n",
    "display('H1={:.4}, P1log(P2)={:.4}, P1log(P3)={:.4}, P1log(P4)={:.4}'.format(H1,P1logP2,P1logP3,P1logP4))\n",
    "display('H2={:.4}, P2log(P1)={:.4}, P2log(P3)={:.4}, P2log(P4)={:.4}'.format(H2,P2logP1,P2logP3,P2logP4))\n",
    "display('H3={:.4}, P3log(P1)={:.4}, P3log(P2)={:.4}, P3log(P4)={:.4}'.format(H3,P3logP1,P3logP2,P3logP4))\n",
    "display('H4={:.4}, P4log(P1)={:.4}, P4log(P2)={:.4}, P4log(P3)={:.4}'.format(H4,P4logP1,P4logP2,P4logP3))\n"
   ]
  },
  {
   "cell_type": "code",
   "execution_count": null,
   "metadata": {},
   "outputs": [],
   "source": []
  }
 ],
 "metadata": {
  "kernelspec": {
   "display_name": "Python 3",
   "language": "python",
   "name": "python3"
  },
  "language_info": {
   "codemirror_mode": {
    "name": "ipython",
    "version": 3
   },
   "file_extension": ".py",
   "mimetype": "text/x-python",
   "name": "python",
   "nbconvert_exporter": "python",
   "pygments_lexer": "ipython3",
   "version": "3.8.5"
  }
 },
 "nbformat": 4,
 "nbformat_minor": 4
}
