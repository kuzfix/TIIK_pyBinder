{
 "cells": [
  {
   "cell_type": "markdown",
   "metadata": {},
   "source": [
    "### Jupyterlab magic\n",
    "Spodnja celica uvozi vse knjižnice in pripravi nastavitve, ki jih potrebujemo kasneje za računanje in risanje. Poženi pred čemerkoli drugim"
   ]
  },
  {
   "cell_type": "code",
   "execution_count": 1,
   "metadata": {},
   "outputs": [
    {
     "name": "stderr",
     "output_type": "stream",
     "text": [
      "In C:\\Users\\maticpi\\Anaconda3\\lib\\site-packages\\matplotlib\\mpl-data\\stylelib\\_classic_test.mplstyle: \n",
      "The text.latex.preview rcparam was deprecated in Matplotlib 3.3 and will be removed two minor releases later.\n",
      "In C:\\Users\\maticpi\\Anaconda3\\lib\\site-packages\\matplotlib\\mpl-data\\stylelib\\_classic_test.mplstyle: \n",
      "The mathtext.fallback_to_cm rcparam was deprecated in Matplotlib 3.3 and will be removed two minor releases later.\n",
      "In C:\\Users\\maticpi\\Anaconda3\\lib\\site-packages\\matplotlib\\mpl-data\\stylelib\\_classic_test.mplstyle: Support for setting the 'mathtext.fallback_to_cm' rcParam is deprecated since 3.3 and will be removed two minor releases later; use 'mathtext.fallback : 'cm' instead.\n",
      "In C:\\Users\\maticpi\\Anaconda3\\lib\\site-packages\\matplotlib\\mpl-data\\stylelib\\_classic_test.mplstyle: \n",
      "The validate_bool_maybe_none function was deprecated in Matplotlib 3.3 and will be removed two minor releases later.\n",
      "In C:\\Users\\maticpi\\Anaconda3\\lib\\site-packages\\matplotlib\\mpl-data\\stylelib\\_classic_test.mplstyle: \n",
      "The savefig.jpeg_quality rcparam was deprecated in Matplotlib 3.3 and will be removed two minor releases later.\n",
      "In C:\\Users\\maticpi\\Anaconda3\\lib\\site-packages\\matplotlib\\mpl-data\\stylelib\\_classic_test.mplstyle: \n",
      "The keymap.all_axes rcparam was deprecated in Matplotlib 3.3 and will be removed two minor releases later.\n",
      "In C:\\Users\\maticpi\\Anaconda3\\lib\\site-packages\\matplotlib\\mpl-data\\stylelib\\_classic_test.mplstyle: \n",
      "The animation.avconv_path rcparam was deprecated in Matplotlib 3.3 and will be removed two minor releases later.\n",
      "In C:\\Users\\maticpi\\Anaconda3\\lib\\site-packages\\matplotlib\\mpl-data\\stylelib\\_classic_test.mplstyle: \n",
      "The animation.avconv_args rcparam was deprecated in Matplotlib 3.3 and will be removed two minor releases later.\n"
     ]
    }
   ],
   "source": [
    "\n",
    "from numpy import *\n",
    "from matplotlib import pyplot as plt\n",
    "#from mpl_toolkits.mplot3d import Axes3D  # noqa: F401 unused import\n",
    "from matplotlib import rcParams as MpRcParams\n",
    "MpRcParams['mathtext.fontset'] = 'cm'\n",
    "MpRcParams['mathtext.rm'] = 'serif'\n",
    "%matplotlib widget\n",
    "#inline"
   ]
  },
  {
   "cell_type": "markdown",
   "metadata": {},
   "source": [
    "# Diskretna vezana porazdelitev"
   ]
  },
  {
   "cell_type": "code",
   "execution_count": 2,
   "metadata": {},
   "outputs": [
    {
     "data": {
      "text/plain": [
       "array([[0.36, 0.04],\n",
       "       [0.06, 0.54]])"
      ]
     },
     "metadata": {},
     "output_type": "display_data"
    },
    {
     "data": {
      "text/plain": [
       "array([[0.42],\n",
       "       [0.58]])"
      ]
     },
     "metadata": {},
     "output_type": "display_data"
    },
    {
     "data": {
      "application/vnd.jupyter.widget-view+json": {
       "model_id": "1f95983add23406f804fddd4fda13957",
       "version_major": 2,
       "version_minor": 0
      },
      "text/plain": [
       "Canvas(toolbar=Toolbar(toolitems=[('Home', 'Reset original view', 'home', 'home'), ('Back', 'Back to previous …"
      ]
     },
     "metadata": {},
     "output_type": "display_data"
    }
   ],
   "source": [
    "\n",
    "Px = array([[0.4], [0.6]])\n",
    "Perr = 0.1\n",
    "Py_pri_x=array([[0.9, 0.1], [0.1, 0.9]])\n",
    "Pxy=Py_pri_x*Px\n",
    "Py = matmul(Py_pri_x,Px)\n",
    "display(Pxy)\n",
    "display(Py)\n",
    "\n",
    "#fig, ax = plt.subplots(figsize=(8, 4))\n",
    "fig = plt.figure(figsize=(8, 8))\n",
    "ax = fig.add_subplot(111, projection='3d')\n",
    "\n",
    "xpos=[0, 0, 1, 1]\n",
    "ypos=[0, 1, 0, 1]\n",
    "zpos=0\n",
    "dz=Pxy.ravel()\n",
    "ax.bar3d(xpos, ypos, zpos, 0.5, 0.5, dz)\n",
    "ax.set_xticks([0.25, 1.25])\n",
    "ax.set_xticklabels([r'$x_1$',r'$x_2$'], fontsize=22)\n",
    "ax.set_yticks([0.25, 1.25])\n",
    "ax.set_yticklabels([r'$y_1$',r'$y_2$'], fontsize=22)\n",
    "ax.set_zlabel(r'$P_{XY}$', fontsize = 24)\n",
    "ax.view_init(elev=30., azim=240)"
   ]
  },
  {
   "cell_type": "markdown",
   "metadata": {},
   "source": [
    "# Zvezna večkratna porazdelitev"
   ]
  },
  {
   "cell_type": "code",
   "execution_count": 3,
   "metadata": {},
   "outputs": [
    {
     "data": {
      "text/plain": [
       "0.9983597109242071"
      ]
     },
     "metadata": {},
     "output_type": "display_data"
    },
    {
     "data": {
      "application/vnd.jupyter.widget-view+json": {
       "model_id": "ad8c41eca6644380af576523836b80ea",
       "version_major": 2,
       "version_minor": 0
      },
      "text/plain": [
       "Canvas(toolbar=Toolbar(toolitems=[('Home', 'Reset original view', 'home', 'home'), ('Back', 'Back to previous …"
      ]
     },
     "metadata": {},
     "output_type": "display_data"
    },
    {
     "data": {
      "application/vnd.jupyter.widget-view+json": {
       "model_id": "93ca5ad4dd6f426db5bbad448bfe81b2",
       "version_major": 2,
       "version_minor": 0
      },
      "text/plain": [
       "Canvas(toolbar=Toolbar(toolitems=[('Home', 'Reset original view', 'home', 'home'), ('Back', 'Back to previous …"
      ]
     },
     "metadata": {},
     "output_type": "display_data"
    }
   ],
   "source": [
    "def pxy1(x,y):\n",
    "    sx=1\n",
    "    sy=1\n",
    "    px = 1/(sx*sqrt(2*pi)) * exp(-0.5*(x/sx)**2)\n",
    "    py = 1/(sy*sqrt(2)) * exp(-sqrt(2)*(fabs(y)/sy))\n",
    "    return px*py\n",
    "\n",
    "N=100\n",
    "Max=5\n",
    "d=2*Max/(N-1)\n",
    "X=linspace(-Max,Max,N)\n",
    "Y=X\n",
    "pxy=zeros((N,N))\n",
    "Fxy=zeros((N+1,N))\n",
    "xplt = outer(X, ones(N))\n",
    "yplt = xplt.copy().T # transpose\n",
    "P=0\n",
    "i=0\n",
    "for x in X:\n",
    "    j=0\n",
    "    F_lastRow=0\n",
    "    for y in Y:\n",
    "        pxy[i,j]=pxy1(x,y)\n",
    "        P=P+pxy[i,j]*d*d\n",
    "        F_lastRow = F_lastRow + pxy[i,j]*d*d\n",
    "        Fxy[i+1,j]=Fxy[i,j]+F_lastRow\n",
    "        j=j+1\n",
    "    i=i+1\n",
    "\n",
    "display(P)\n",
    "Fxy=Fxy[1:,0:]\n",
    "\n",
    "fig2 = plt.figure()\n",
    "ax2 = plt.axes(projection='3d')\n",
    "ax2.plot_surface(xplt, yplt, Fxy,cmap='viridis', edgecolor='none')\n",
    "ax2.set_xlabel(r'$x$',fontsize=18)\n",
    "ax2.set_ylabel(r'$y$',fontsize=18)\n",
    "ax2.set_zlabel(r'$F_{XY}(x,y)$',fontsize=18)\n",
    "plt.show()  \n",
    "\n",
    "fig = plt.figure()\n",
    "ax = plt.axes(projection='3d')\n",
    "ax.plot_surface(xplt, yplt, pxy,cmap='viridis', edgecolor='none')\n",
    "ax.set_xlabel(r'$x$',fontsize=18)\n",
    "ax.set_ylabel(r'$y$',fontsize=18)\n",
    "ax.set_zlabel(r'$p_{XY}(x,y)$',fontsize=18)\n",
    "plt.show()        \n",
    "\n",
    "      "
   ]
  },
  {
   "cell_type": "code",
   "execution_count": 22,
   "metadata": {},
   "outputs": [],
   "source": [
    "plt.close(\"all\")"
   ]
  },
  {
   "cell_type": "code",
   "execution_count": null,
   "metadata": {},
   "outputs": [],
   "source": []
  }
 ],
 "metadata": {
  "kernelspec": {
   "display_name": "Python 3",
   "language": "python",
   "name": "python3"
  },
  "language_info": {
   "codemirror_mode": {
    "name": "ipython",
    "version": 3
   },
   "file_extension": ".py",
   "mimetype": "text/x-python",
   "name": "python",
   "nbconvert_exporter": "python",
   "pygments_lexer": "ipython3",
   "version": "3.8.5"
  }
 },
 "nbformat": 4,
 "nbformat_minor": 4
}
