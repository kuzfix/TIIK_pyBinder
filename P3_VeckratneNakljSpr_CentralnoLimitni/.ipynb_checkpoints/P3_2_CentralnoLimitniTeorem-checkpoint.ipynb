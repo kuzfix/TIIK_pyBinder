{
 "cells": [
  {
   "cell_type": "markdown",
   "metadata": {},
   "source": [
    "# Python magic\n",
    "Zaženi preden zaženeš ostale skripte"
   ]
  },
  {
   "cell_type": "code",
   "execution_count": 2,
   "metadata": {},
   "outputs": [],
   "source": [
    "from numpy import *\n",
    "from ipywidgets import *\n",
    "from matplotlib import pyplot as plt\n",
    "from matplotlib import rcParams as MpRcParams\n",
    "MpRcParams['mathtext.fontset'] = 'cm'\n",
    "MpRcParams['mathtext.rm'] = 'serif'\n",
    "%matplotlib widget\n",
    "#inline"
   ]
  },
  {
   "cell_type": "markdown",
   "metadata": {},
   "source": [
    "# Centralno limitni teorem"
   ]
  },
  {
   "cell_type": "code",
   "execution_count": 66,
   "metadata": {},
   "outputs": [
    {
     "data": {
      "application/vnd.jupyter.widget-view+json": {
       "model_id": "52cae587945d4c06a0ebc9936bc44e90",
       "version_major": 2,
       "version_minor": 0
      },
      "text/plain": [
       "Canvas(toolbar=Toolbar(toolitems=[('Home', 'Reset original view', 'home', 'home'), ('Back', 'Back to previous …"
      ]
     },
     "metadata": {},
     "output_type": "display_data"
    },
    {
     "data": {
      "text/plain": [
       "Text(0.5, 1.0, 'Met desetih kock')"
      ]
     },
     "execution_count": 66,
     "metadata": {},
     "output_type": "execute_result"
    }
   ],
   "source": [
    "plt.close(\"all\")\n",
    "N=6\n",
    "P1=ones(N)/N\n",
    "x1=linspace(1,N,N)\n",
    "P2=convolve(P1,P1)\n",
    "x2=linspace(2,2*N,2*N-1)\n",
    "P3=convolve(P2,P1)\n",
    "x3=linspace(3,3*N,3*N-2)\n",
    "P4=convolve(P3,P1)\n",
    "x4=linspace(4,4*N,4*N-3)\n",
    "\n",
    "Pn=P1\n",
    "nkock=10\n",
    "for i in range(1,nkock):\n",
    "    Pn=convolve(Pn,P1)\n",
    "xn=linspace(nkock,nkock*N,nkock*N-nkock+1)\n",
    "\n",
    "fig, (ax1,ax2,ax3,ax4) = plt.subplots(1,4,sharey=False,figsize=(14,4))\n",
    "ax1.bar(x1,P1)\n",
    "ax2.bar(x2,P2)\n",
    "ax3.bar(x3,P3)\n",
    "ax4.bar(xn,Pn)\n",
    "ax1.set_ylabel(r'$P_X(x)$',fontsize=14)\n",
    "ax1.set_title('Met ene kocke')\n",
    "ax2.set_title('Met dveh kock')\n",
    "ax3.set_title('Met treh kock')\n",
    "ax4.set_title('Met desetih kock')\n"
   ]
  },
  {
   "cell_type": "code",
   "execution_count": 101,
   "metadata": {},
   "outputs": [
    {
     "data": {
      "application/vnd.jupyter.widget-view+json": {
       "model_id": "fbeafd876c5c434da0106a9dfb347c10",
       "version_major": 2,
       "version_minor": 0
      },
      "text/plain": [
       "Canvas(toolbar=Toolbar(toolitems=[('Home', 'Reset original view', 'home', 'home'), ('Back', 'Back to previous …"
      ]
     },
     "metadata": {},
     "output_type": "display_data"
    },
    {
     "data": {
      "text/plain": [
       "0.8846903067531978"
      ]
     },
     "execution_count": 101,
     "metadata": {},
     "output_type": "execute_result"
    }
   ],
   "source": [
    "plt.close(\"all\")\n",
    "sigma=0.3\n",
    "N=1000\n",
    "x,step=linspace(-1+1/N,1-1/N,N,retstep=True)\n",
    "p1=1/pi*1/sqrt(1-x**2) #porazdelitev sinusa (ali kosinusa)\n",
    "#p1=ones(N)/(max(x)-min(x)) #enakomerna porazdelitev\n",
    "#p1=1/(sigma*sqrt(2*pi))*exp(-0.5*x**2/sigma**2)\n",
    "#p1=1/(sigma*sqrt(2))*exp(-sqrt(2)*abs(x)/sigma)\n",
    "p2=convolve(p1,p1)*step\n",
    "p3=convolve(p2,p1)*step\n",
    "x1=linspace(-1+1/N,1-1/N,1*N-1+1)\n",
    "x2=linspace(-2+1/N,2-1/N,2*N-2+1)\n",
    "x3=linspace(-3+1/N,3-1/N,3*N-3+1)\n",
    "xn=linspace(-10+1/N,10-1/N,10*N-10+1)\n",
    "\n",
    "pn=p1\n",
    "nposkusov=10\n",
    "for i in range(1,nposkusov):\n",
    "    pn=convolve(pn,p1)*step\n",
    "\n",
    "fig, (ax1,ax2,ax3,ax4) = plt.subplots(1,4,sharey=False,figsize=(14,4))\n",
    "ax1.plot(x1,p1)\n",
    "ax2.plot(x2,p2)\n",
    "ax3.plot(x3,p3)\n",
    "ax4.plot(xn,pn)\n",
    "ax1.set_ylabel(r'$P_X(x)$',fontsize=14)\n",
    "ax1.set_xlabel(r'$x$',fontsize=14)\n",
    "ax2.set_xlabel(r'$x$',fontsize=14)\n",
    "ax3.set_xlabel(r'$x$',fontsize=14)\n",
    "ax4.set_xlabel(r'$x$',fontsize=14)\n",
    "ax1.set_title('1 poskus')\n",
    "ax2.set_title('2 poskusa')\n",
    "ax3.set_title('3 poskusi')\n",
    "ax4.set_title('10 poskusov')\n",
    "\n",
    "sum(pn*step) #To bi moralo biti skoraj 1. Če N večamo nad 1000, to čedalje bolje drži, a se tudi čas računanja zelo podaljša"
   ]
  },
  {
   "cell_type": "code",
   "execution_count": 103,
   "metadata": {},
   "outputs": [
    {
     "ename": "NameError",
     "evalue": "name 'special' is not defined",
     "output_type": "error",
     "traceback": [
      "\u001b[1;31m---------------------------------------------------------------------------\u001b[0m",
      "\u001b[1;31mNameError\u001b[0m                                 Traceback (most recent call last)",
      "\u001b[1;32m<ipython-input-103-dc9a27627730>\u001b[0m in \u001b[0;36m<module>\u001b[1;34m\u001b[0m\n\u001b[1;32m----> 1\u001b[1;33m \u001b[0mspecial\u001b[0m\u001b[1;33m.\u001b[0m\u001b[0merf\u001b[0m\u001b[1;33m(\u001b[0m\u001b[1;36m0\u001b[0m\u001b[1;33m)\u001b[0m\u001b[1;33m\u001b[0m\u001b[1;33m\u001b[0m\u001b[0m\n\u001b[0m",
      "\u001b[1;31mNameError\u001b[0m: name 'special' is not defined"
     ]
    }
   ],
   "source": []
  }
 ],
 "metadata": {
  "kernelspec": {
   "display_name": "Python 3",
   "language": "python",
   "name": "python3"
  },
  "language_info": {
   "codemirror_mode": {
    "name": "ipython",
    "version": 3
   },
   "file_extension": ".py",
   "mimetype": "text/x-python",
   "name": "python",
   "nbconvert_exporter": "python",
   "pygments_lexer": "ipython3",
   "version": "3.8.5"
  }
 },
 "nbformat": 4,
 "nbformat_minor": 4
}
