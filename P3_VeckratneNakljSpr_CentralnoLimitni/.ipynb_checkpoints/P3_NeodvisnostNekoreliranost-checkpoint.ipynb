{
 "cells": [
  {
   "cell_type": "code",
   "execution_count": 3,
   "metadata": {},
   "outputs": [],
   "source": [
    "from numpy import *\n",
    "from matplotlib import pyplot as plt\n",
    "#from mpl_toolkits.mplot3d import Axes3D  # noqa: F401 unused import\n",
    "from matplotlib import rcParams as MpRcParams\n",
    "MpRcParams['mathtext.fontset'] = 'cm'\n",
    "MpRcParams['mathtext.rm'] = 'serif'\n",
    "%matplotlib widget\n",
    "#inline"
   ]
  },
  {
   "cell_type": "markdown",
   "metadata": {},
   "source": [
    "# Primer 1: Nekorelirani odvisnih spremenljivki sin in cos"
   ]
  },
  {
   "cell_type": "code",
   "execution_count": 37,
   "metadata": {},
   "outputs": [
    {
     "data": {
      "application/vnd.jupyter.widget-view+json": {
       "model_id": "b66fd6c40472450a9b985d232fe80925",
       "version_major": 2,
       "version_minor": 0
      },
      "text/plain": [
       "Canvas(toolbar=Toolbar(toolitems=[('Home', 'Reset original view', 'home', 'home'), ('Back', 'Back to previous …"
      ]
     },
     "metadata": {},
     "output_type": "display_data"
    },
    {
     "data": {
      "application/vnd.jupyter.widget-view+json": {
       "model_id": "3dd432328bbe40a6b36ee227a48174f0",
       "version_major": 2,
       "version_minor": 0
      },
      "text/plain": [
       "Canvas(toolbar=Toolbar(toolitems=[('Home', 'Reset original view', 'home', 'home'), ('Back', 'Back to previous …"
      ]
     },
     "metadata": {},
     "output_type": "display_data"
    },
    {
     "data": {
      "text/plain": [
       "Text(0, 0.5, '$p_X(x)$')"
      ]
     },
     "execution_count": 37,
     "metadata": {},
     "output_type": "execute_result"
    }
   ],
   "source": [
    "fi = linspace(0,2*pi,100)\n",
    "X=cos(fi)\n",
    "Y=sin(fi)\n",
    "\n",
    "fig, ax = plt.subplots()\n",
    "ax.plot(X,Y)\n",
    "ax.axhline(0, color='black', lw=1)\n",
    "ax.axvline(0, color='black', lw=1)\n",
    "ax.set_aspect('equal', adjustable='box')\n",
    "ax.set_xlabel(r'$x$',fontsize=20)\n",
    "ax.set_ylabel(r'$y$',fontsize=20,rotation=0)\n",
    "\n",
    "x = linspace(-1+1e-2,1-1e-2,100)\n",
    "px = 1/pi*1/sqrt(1-x**2)\n",
    "fig, ax = plt.subplots()\n",
    "ax.plot(x,px)\n",
    "ax.axhline(0, color='black', lw=1)\n",
    "ax.axvline(0, color='black', lw=1)\n",
    "ax.set_aspect('equal', adjustable='box')\n",
    "ax.set_xlabel(r'$x$',fontsize=20)\n",
    "ax.set_ylim(0,2)\n",
    "ax.set_xlim(-1,1)\n",
    "ax.set_ylabel(r'$p_X(x)$',fontsize=20,rotation=90)\n",
    "\n",
    "#plt.close(\"all\")"
   ]
  },
  {
   "cell_type": "markdown",
   "metadata": {},
   "source": [
    "# Primer 2: $Y=X^2$"
   ]
  },
  {
   "cell_type": "code",
   "execution_count": 67,
   "metadata": {},
   "outputs": [
    {
     "data": {
      "application/vnd.jupyter.widget-view+json": {
       "model_id": "81c8b7e24d6c47b2b522fb7cf6fde21b",
       "version_major": 2,
       "version_minor": 0
      },
      "text/plain": [
       "Canvas(toolbar=Toolbar(toolitems=[('Home', 'Reset original view', 'home', 'home'), ('Back', 'Back to previous …"
      ]
     },
     "metadata": {},
     "output_type": "display_data"
    },
    {
     "data": {
      "application/vnd.jupyter.widget-view+json": {
       "model_id": "b81a056404d944ce9230d4f8fdeb1e20",
       "version_major": 2,
       "version_minor": 0
      },
      "text/plain": [
       "Canvas(toolbar=Toolbar(toolitems=[('Home', 'Reset original view', 'home', 'home'), ('Back', 'Back to previous …"
      ]
     },
     "metadata": {},
     "output_type": "display_data"
    },
    {
     "data": {
      "text/plain": [
       "Text(0, 0.5, '$p_Y(y)$')"
      ]
     },
     "execution_count": 67,
     "metadata": {},
     "output_type": "execute_result"
    }
   ],
   "source": [
    "plt.close(\"all\")\n",
    "N=100000\n",
    "X = random.uniform(-1,1,N)\n",
    "Y = X**2\n",
    "\n",
    "fig, ax = plt.subplots()\n",
    "ax.scatter(X,Y)\n",
    "ax.axhline(0, color='black', lw=1)\n",
    "ax.axvline(0, color='black', lw=1)\n",
    "ax.set_aspect('equal', adjustable='box')\n",
    "ax.set_xlabel(r'$x$',fontsize=20)\n",
    "ax.set_ylabel(r'$y$',fontsize=20,rotation=0)\n",
    "\n",
    "fig, ax = plt.subplots()\n",
    "ax.hist(Y, bins = 100, density=True)\n",
    "\n",
    "y = linspace(1e-2,1,100)\n",
    "py = .5/sqrt(y)\n",
    "ax.plot(y,py, color= 'red')\n",
    "ax.axhline(0, color='black', lw=1)\n",
    "ax.axvline(0, color='black', lw=1)\n",
    "ax.set_xlabel(r'$y$',fontsize=20)\n",
    "ax.set_ylabel(r'$p_Y(y)$',fontsize=20,rotation=90)\n"
   ]
  },
  {
   "cell_type": "markdown",
   "metadata": {},
   "source": [
    "# Primer 3: $Y=X^2$, X=normal distribution\n",
    "\n",
    "$Y = {X^2}$   $\\Rightarrow$   $X = \\pm \\sqrt{Y}$\n",
    "\n",
    "${p_Y}\\left( y \\right) = {p_X}\\left( x \\right)\\frac{1}{{\\left| {\\frac{{dY}}{{dX}}} \\right|}}$\n",
    "\n",
    "$\\frac{{dY}}{{dX}} = \\frac{d}{{dX}}{X^2} = 2X = 2\\sqrt Y $\n",
    "\n",
    "$p_X\\left( x \\right) = \\frac{1}{{{\\sigma _X}\\sqrt {2\\pi } }}{e^{ - \\frac{1}{2}{{\\left( {\\frac{x}{{{\\sigma _X}}}} \\right)}^2}}}$\n",
    "\n",
    "$p_X\\left( y \\right) = \\frac{1}{{{\\sigma _X}\\sqrt {2\\pi } }}{e^{ - \\frac{1}{2}{{\\left( {\\frac{{\\sqrt y }}{{{\\sigma _X}}}} \\right)}^2}}} = \\frac{1}{{{\\sigma _X}\\sqrt {2\\pi } }}{e^{ - \\frac{y}{{2{\\sigma _X}^2}}}}$\n",
    "\n",
    "${p_Y}\\left( y \\right) = \\frac{1}{{{\\sigma _X}\\sqrt {2\\pi } }}{e^{ - \\frac{y}{{2{\\sigma _X}^2}}}} \\cdot \\frac{1}{{2\\sqrt y }} \\cdot \\underbrace 2_{komentar}$\n",
    "\n",
    "komentar: krat 2, ker moramo upoštevati pogostost na pozitivni in na negativni strani (koren ima 2 rešitvi)\n"
   ]
  },
  {
   "cell_type": "code",
   "execution_count": 70,
   "metadata": {},
   "outputs": [
    {
     "data": {
      "application/vnd.jupyter.widget-view+json": {
       "model_id": "91e691a14fb848ee8d394e2736ed3a8f",
       "version_major": 2,
       "version_minor": 0
      },
      "text/plain": [
       "Canvas(toolbar=Toolbar(toolitems=[('Home', 'Reset original view', 'home', 'home'), ('Back', 'Back to previous …"
      ]
     },
     "metadata": {},
     "output_type": "display_data"
    },
    {
     "data": {
      "application/vnd.jupyter.widget-view+json": {
       "model_id": "a8eb7e6597ee4f57a155301fb2b2fe68",
       "version_major": 2,
       "version_minor": 0
      },
      "text/plain": [
       "Canvas(toolbar=Toolbar(toolitems=[('Home', 'Reset original view', 'home', 'home'), ('Back', 'Back to previous …"
      ]
     },
     "metadata": {},
     "output_type": "display_data"
    },
    {
     "data": {
      "text/plain": [
       "Text(0, 0.5, '$p_Y(y)$')"
      ]
     },
     "execution_count": 70,
     "metadata": {},
     "output_type": "execute_result"
    }
   ],
   "source": [
    "plt.close(\"all\")\n",
    "N=100000\n",
    "sigmax=0.25\n",
    "X = random.normal(0,sigmax,N)\n",
    "Y = X**2\n",
    "\n",
    "fig, ax = plt.subplots()\n",
    "ax.scatter(X,Y)\n",
    "ax.axhline(0, color='black', lw=1)\n",
    "ax.axvline(0, color='black', lw=1)\n",
    "ax.set_aspect('equal', adjustable='box')\n",
    "ax.set_xlabel(r'$x$',fontsize=20)\n",
    "ax.set_ylabel(r'$y$',fontsize=20,rotation=0)\n",
    "\n",
    "fig, ax = plt.subplots()\n",
    "ax.hist(Y, bins = 100, density=True)\n",
    "\n",
    "y = linspace(1e-2,1,100)\n",
    "py =2* .5/sqrt(y)*1/(sigmax*sqrt(2*pi))*exp(-.5*y/sigmax**2)\n",
    "ax.plot(y,py, color= 'red')\n",
    "ax.axhline(0, color='black', lw=1)\n",
    "ax.axvline(0, color='black', lw=1)\n",
    "ax.set_xlabel(r'$y$',fontsize=20)\n",
    "ax.set_ylabel(r'$p_Y(y)$',fontsize=20,rotation=90)\n"
   ]
  },
  {
   "cell_type": "markdown",
   "metadata": {},
   "source": [
    "# Izracun "
   ]
  }
 ],
 "metadata": {
  "kernelspec": {
   "display_name": "Python 3",
   "language": "python",
   "name": "python3"
  },
  "language_info": {
   "codemirror_mode": {
    "name": "ipython",
    "version": 3
   },
   "file_extension": ".py",
   "mimetype": "text/x-python",
   "name": "python",
   "nbconvert_exporter": "python",
   "pygments_lexer": "ipython3",
   "version": "3.8.5"
  }
 },
 "nbformat": 4,
 "nbformat_minor": 4
}
