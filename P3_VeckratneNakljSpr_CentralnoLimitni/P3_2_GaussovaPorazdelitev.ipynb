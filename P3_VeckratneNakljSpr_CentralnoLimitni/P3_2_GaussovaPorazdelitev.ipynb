{
 "cells": [
  {
   "cell_type": "markdown",
   "metadata": {},
   "source": [
    "# Python magic\n",
    "Zaženi preden zaženeš ostale skripte"
   ]
  },
  {
   "cell_type": "code",
   "execution_count": 1,
   "metadata": {},
   "outputs": [
    {
     "name": "stderr",
     "output_type": "stream",
     "text": [
      "In C:\\Users\\maticpi\\Anaconda3\\lib\\site-packages\\matplotlib\\mpl-data\\stylelib\\_classic_test.mplstyle: \n",
      "The text.latex.preview rcparam was deprecated in Matplotlib 3.3 and will be removed two minor releases later.\n",
      "In C:\\Users\\maticpi\\Anaconda3\\lib\\site-packages\\matplotlib\\mpl-data\\stylelib\\_classic_test.mplstyle: \n",
      "The mathtext.fallback_to_cm rcparam was deprecated in Matplotlib 3.3 and will be removed two minor releases later.\n",
      "In C:\\Users\\maticpi\\Anaconda3\\lib\\site-packages\\matplotlib\\mpl-data\\stylelib\\_classic_test.mplstyle: Support for setting the 'mathtext.fallback_to_cm' rcParam is deprecated since 3.3 and will be removed two minor releases later; use 'mathtext.fallback : 'cm' instead.\n",
      "In C:\\Users\\maticpi\\Anaconda3\\lib\\site-packages\\matplotlib\\mpl-data\\stylelib\\_classic_test.mplstyle: \n",
      "The validate_bool_maybe_none function was deprecated in Matplotlib 3.3 and will be removed two minor releases later.\n",
      "In C:\\Users\\maticpi\\Anaconda3\\lib\\site-packages\\matplotlib\\mpl-data\\stylelib\\_classic_test.mplstyle: \n",
      "The savefig.jpeg_quality rcparam was deprecated in Matplotlib 3.3 and will be removed two minor releases later.\n",
      "In C:\\Users\\maticpi\\Anaconda3\\lib\\site-packages\\matplotlib\\mpl-data\\stylelib\\_classic_test.mplstyle: \n",
      "The keymap.all_axes rcparam was deprecated in Matplotlib 3.3 and will be removed two minor releases later.\n",
      "In C:\\Users\\maticpi\\Anaconda3\\lib\\site-packages\\matplotlib\\mpl-data\\stylelib\\_classic_test.mplstyle: \n",
      "The animation.avconv_path rcparam was deprecated in Matplotlib 3.3 and will be removed two minor releases later.\n",
      "In C:\\Users\\maticpi\\Anaconda3\\lib\\site-packages\\matplotlib\\mpl-data\\stylelib\\_classic_test.mplstyle: \n",
      "The animation.avconv_args rcparam was deprecated in Matplotlib 3.3 and will be removed two minor releases later.\n"
     ]
    }
   ],
   "source": [
    "from time import sleep\n",
    "from numpy import *\n",
    "from ipywidgets import *\n",
    "from scipy.stats import norm\n",
    "from matplotlib import pyplot as plt\n",
    "from matplotlib import rcParams as MpRcParams\n",
    "MpRcParams['mathtext.fontset'] = 'cm'\n",
    "MpRcParams['mathtext.rm'] = 'serif'\n",
    "%matplotlib widget\n",
    "#inline"
   ]
  },
  {
   "cell_type": "markdown",
   "metadata": {},
   "source": [
    "# Verjetnost na intervalu"
   ]
  },
  {
   "cell_type": "code",
   "execution_count": 2,
   "metadata": {},
   "outputs": [
    {
     "data": {
      "application/vnd.jupyter.widget-view+json": {
       "model_id": "53dac886305e49a3a876e05536715468",
       "version_major": 2,
       "version_minor": 0
      },
      "text/plain": [
       "Canvas(toolbar=Toolbar(toolitems=[('Home', 'Reset original view', 'home', 'home'), ('Back', 'Back to previous …"
      ]
     },
     "metadata": {},
     "output_type": "display_data"
    },
    {
     "data": {
      "text/plain": [
       "Text(0.5, 0, '$x$')"
      ]
     },
     "execution_count": 2,
     "metadata": {},
     "output_type": "execute_result"
    }
   ],
   "source": [
    "sigma=3\n",
    "avg=5\n",
    "\n",
    "#Izracunaj tabelo vrednosti za risanje grafa\n",
    "pnor=norm(scale=sigma,loc=avg)\n",
    "X=linspace(-3*sigma+avg,3*sigma+avg,1000)\n",
    "px=pnor.pdf(X)\n",
    "\n",
    "#Risanje    \n",
    "fig, ax = plt.subplots()\n",
    "ax.plot(X,px)\n",
    "a=4\n",
    "b=9\n",
    "ax.fill_between(X, px, 0, where=((X > a) & (X <= b)), facecolor='blue', alpha=0.25)\n",
    "ax.axhline(0, color='black', lw=1)\n",
    "ax.axvline(0, color='black', lw=1)\n",
    "ax.plot([a,a],[0,pnor.pdf(a)], color='blue')\n",
    "ax.plot([b,b],[0,pnor.pdf(b)], color='blue')\n",
    "ax.annotate('$x_1$',xy=(a,0), xytext=(a-0.4,-0.02), fontsize=16)\n",
    "ax.annotate('$x_2$',xy=(a,0), xytext=(b-0.4,-0.02), fontsize=16)\n",
    "plt.ylabel(r'gostota verjetnosti $p_X(x)$', fontsize=14)\n",
    "plt.xlabel(r'$x$', fontsize=14)"
   ]
  },
  {
   "cell_type": "code",
   "execution_count": 3,
   "metadata": {},
   "outputs": [
    {
     "data": {
      "application/vnd.jupyter.widget-view+json": {
       "model_id": "da28302e41714f5684b0d4d4eb1218b0",
       "version_major": 2,
       "version_minor": 0
      },
      "text/plain": [
       "Canvas(toolbar=Toolbar(toolitems=[('Home', 'Reset original view', 'home', 'home'), ('Back', 'Back to previous …"
      ]
     },
     "metadata": {},
     "output_type": "display_data"
    },
    {
     "data": {
      "text/plain": [
       "Text(0.5, 0, '$x$')"
      ]
     },
     "execution_count": 3,
     "metadata": {},
     "output_type": "execute_result"
    }
   ],
   "source": [
    "sigma=0.8\n",
    "avg=2\n",
    "\n",
    "#Izracunaj tabelo vrednosti za risanje grafa\n",
    "pnor=norm(scale=sigma,loc=avg)\n",
    "X=linspace(-1,5,1000)\n",
    "px=pnor.pdf(X)\n",
    "\n",
    "#Risanje    \n",
    "fig, ax = plt.subplots(figsize=(8,4))\n",
    "ax.plot(X,px)\n",
    "ax.fill_between(X, px, 0, where=(X > 3.3), facecolor='red', alpha=0.25)\n",
    "ax.fill_between(X, px, 0, where=(X < 0), facecolor='red', alpha=0.25)\n",
    "ax.axhline(0, color='black', lw=1)\n",
    "ax.axvline(0, color='black', lw=1)\n",
    "ax.axvline(3.3, color='black', lw=1)\n",
    "ax.axvline(2, color='lightblue', lw=2)\n",
    "ax.annotate('3.3',xy=(3.3,0), xytext=(3.3-0.2,-0.08), fontsize=16)\n",
    "plt.ylabel(r'gostota verjetnosti $p_X(x)$', fontsize=14)\n",
    "plt.xlabel(r'$x$', fontsize=14)"
   ]
  },
  {
   "cell_type": "markdown",
   "metadata": {},
   "source": [
    "# Error function"
   ]
  },
  {
   "cell_type": "code",
   "execution_count": 4,
   "metadata": {},
   "outputs": [
    {
     "data": {
      "application/vnd.jupyter.widget-view+json": {
       "model_id": "fc439abfbf10405e9b51767abde6c480",
       "version_major": 2,
       "version_minor": 0
      },
      "text/plain": [
       "Canvas(toolbar=Toolbar(toolitems=[('Home', 'Reset original view', 'home', 'home'), ('Back', 'Back to previous …"
      ]
     },
     "metadata": {},
     "output_type": "display_data"
    },
    {
     "data": {
      "text/plain": [
       "Text(0.5, 0, '$x$')"
      ]
     },
     "execution_count": 4,
     "metadata": {},
     "output_type": "execute_result"
    }
   ],
   "source": [
    "sigma=1\n",
    "avg=0\n",
    "a = 1.5\n",
    "\n",
    "#Izracunaj tabelo vrednosti za risanje grafa\n",
    "pnor=norm(scale=sigma,loc=avg)\n",
    "X=linspace(-3,3,1000)\n",
    "px=pnor.pdf(X)\n",
    "\n",
    "#Risanje    \n",
    "fig, ax = plt.subplots(figsize=(8,4))\n",
    "ax.plot(X,px)\n",
    "ax.fill_between(X, px, 0, where=(X > -a) & (X<a), facecolor='blue', alpha=0.25)\n",
    "ax.axhline(0, color='black', lw=1)\n",
    "ax.axvline(0, color='black', lw=1)\n",
    "ax.annotate('$a$',xy=(a,0), xytext=(a-0.2,-0.08), fontsize=20)\n",
    "ax.annotate('$-a$',xy=(-a,0), xytext=(-a-0.2,-0.08), fontsize=20)\n",
    "ax.plot([a,a],[0,pnor.pdf(a)], color='blue')\n",
    "ax.plot([-a,-a],[0,pnor.pdf(-a)], color='blue')\n",
    "\n",
    "plt.ylabel(r'$p_X(x)$', fontsize=14)\n",
    "plt.xlabel(r'$x$', fontsize=14)"
   ]
  },
  {
   "cell_type": "code",
   "execution_count": 2,
   "metadata": {},
   "outputs": [
    {
     "data": {
      "application/vnd.jupyter.widget-view+json": {
       "model_id": "b6addcd7d7234fe7bd752bb9fb391cb8",
       "version_major": 2,
       "version_minor": 0
      },
      "text/plain": [
       "Canvas(toolbar=Toolbar(toolitems=[('Home', 'Reset original view', 'home', 'home'), ('Back', 'Back to previous …"
      ]
     },
     "metadata": {},
     "output_type": "display_data"
    }
   ],
   "source": [
    "%matplotlib widget\n",
    "import matplotlib.animation as animation\n",
    "plt.close(\"all\")\n",
    "X=linspace(-3,3,1000)\n",
    "px=norm.pdf(X)\n",
    "data=[[r'$x$','','','','','','','','','',''],\n",
    "      [r'$\\Phi(x)$','','','','','','','','','','']]\n",
    "data2=[[r'$x$','','','','','','','','','',''],\n",
    "       [r'0.1','','','','','','','','','',''],\n",
    "       [r'0.2','','','','','','','','','',''],\n",
    "       [r'0.3','','','','','','','','','',''],\n",
    "       [r'0.4','','','','','','','','','',''],\n",
    "       [r'0.5','','','','','','','','','',''],\n",
    "       [r'0.6','','','','','','','','','',''],\n",
    "       [r'0.7','','','','','','','','','',''],\n",
    "       [r'0.8','','','','','','','','','',''],\n",
    "       [r'0.9','','','','','','','','','',''],\n",
    "       [r'1.0','','','','','','','','','',''],\n",
    "       [r'1.1','','','','','','','','','',''],\n",
    "       [r'1.2','','','','','','','','','',''],\n",
    "       [r'1.3','','','','','','','','','',''],\n",
    "       [r'1.4','','','','','','','','','',''],\n",
    "      [r'1.5','','','','','','','','','','']]\n",
    "fig,ax = plt.subplots(2,1,gridspec_kw={'height_ratios':[1,2]}, figsize=(10,5))\n",
    "ax[0].plot(X,px)\n",
    "fill = ax[0].fill_between(X, px, 0, where=(X < 0), facecolor='blue', alpha=0.25)\n",
    "vline, = ax[0].plot([0,0],[0,norm.pdf(0)], color='blue')\n",
    "ax[0].axhline(0, color='black', lw=1)\n",
    "ax[0].axvline(0, color='black', lw=1)\n",
    "ax[1].axis('off')\n",
    "mt=ax[1].table(cellText=data, loc=2)\n",
    "\n",
    "def updateFig(xn):\n",
    "    global fill, vline, val, X, px, Fx, Xf, Fxline\n",
    "    fill.remove()    \n",
    "    fill = ax[0].fill_between(X, px, 0, where=(X < xn), facecolor='blue', alpha=0.25)\n",
    "    vline.set_xdata([xn,xn])\n",
    "    vline.set_ydata([0,norm.pdf(xn)])\n",
    "\n",
    "idx=0\n",
    "\n",
    "def animate(i):\n",
    "    global idx, mt\n",
    "    if i<100:\n",
    "        if ((i%10) == 0):\n",
    "            xn = idx/100\n",
    "            updateFig(xn)\n",
    "            mt[0,idx+1]._text.set_text('{:.2f}'.format(xn))\n",
    "            data2[0][idx+1] = '{:.2f}'.format(xn)\n",
    "            mt[1,idx+1]._text.set_text('{:.5f}'.format(norm.cdf(xn)))\n",
    "            data2[1][idx+1] = '{:.5f}'.format(norm.cdf(xn))\n",
    "            idx = idx + 1\n",
    "    if (i==120):\n",
    "        mt[1,0]._text.set_text('0.1')\n",
    "    if (i==140):\n",
    "        mt = ax[1].table(cellText=data2, loc=2)\n",
    "    if (i>160):\n",
    "        xn=idx/100\n",
    "        updateFig(xn)\n",
    "        mt[int(idx/10)+1,(idx%10)+1]._text.set_text('{:.5f}'.format(norm.cdf(xn)))\n",
    "        idx = idx + 1\n",
    "\n",
    "ani = animation.FuncAnimation(fig, animate, interval=10, blit=True, save_count=20)\n",
    "writer = animation.FFMpegWriter(\n",
    "    fps=30, metadata=dict(artist='Me'), bitrate=1800)\n",
    "ani.save(\"d:\\movie.mp4\", writer=writer)\n",
    "#ani.save(\"d:\\movie.mp4\")\n"
   ]
  },
  {
   "cell_type": "code",
   "execution_count": 53,
   "metadata": {},
   "outputs": [
    {
     "data": {
      "text/plain": [
       "0"
      ]
     },
     "execution_count": 53,
     "metadata": {},
     "output_type": "execute_result"
    }
   ],
   "source": [
    "int(9/10)"
   ]
  }
 ],
 "metadata": {
  "kernelspec": {
   "display_name": "Python 3",
   "language": "python",
   "name": "python3"
  },
  "language_info": {
   "codemirror_mode": {
    "name": "ipython",
    "version": 3
   },
   "file_extension": ".py",
   "mimetype": "text/x-python",
   "name": "python",
   "nbconvert_exporter": "python",
   "pygments_lexer": "ipython3",
   "version": "3.8.5"
  }
 },
 "nbformat": 4,
 "nbformat_minor": 4
}
