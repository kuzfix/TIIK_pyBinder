{
 "cells": [
  {
   "cell_type": "markdown",
   "metadata": {},
   "source": [
    "### Jupyterlab magic\n",
    "Spodnja celica uvozi vse knjižnice (mogoče tudi kakšno preveč) in pripravi nastavitve, ki jih potrebujemo kasneje za računanje in risanje. Poženi pred čemerkoli drugim"
   ]
  },
  {
   "cell_type": "code",
   "execution_count": 2,
   "metadata": {},
   "outputs": [],
   "source": [
    "from math import pi\n",
    "from numpy import *\n",
    "from ipywidgets import *\n",
    "from matplotlib import pyplot as plt\n",
    "from matplotlib import rcParams as MpRcParams\n",
    "from scipy.constants import *\n",
    "MpRcParams['mathtext.fontset'] = 'cm'\n",
    "MpRcParams['mathtext.rm'] = 'serif'\n",
    "%matplotlib inline"
   ]
  },
  {
   "cell_type": "markdown",
   "metadata": {},
   "source": [
    "# Sprememba porazdelitve verjetnosti simbolov pri prehodu skozi kanal"
   ]
  },
  {
   "cell_type": "code",
   "execution_count": 4,
   "metadata": {},
   "outputs": [
    {
     "data": {
      "text/plain": [
       "array([[0.66],\n",
       "       [0.34]])"
      ]
     },
     "execution_count": 4,
     "metadata": {},
     "output_type": "execute_result"
    }
   ],
   "source": [
    "Px=array([[0.7], [0.3]])\n",
    "Pk1=array([[0.9, 0.1],[0.1,0.9]])\n",
    "Pk2=array([[0.9, 0.1],[0.1,0.9]])\n",
    "Pk3=array([[0.9, 0.1],[0.1,0.9]])\n",
    "Pk4=array([[0.9, 0.1],[0.1,0.9]])\n",
    "Py1=matmul(transpose(Pk1),Px)\n",
    "Py1"
   ]
  },
  {
   "cell_type": "code",
   "execution_count": 5,
   "metadata": {},
   "outputs": [
    {
     "data": {
      "text/plain": [
       "array([[0.628],\n",
       "       [0.372]])"
      ]
     },
     "execution_count": 5,
     "metadata": {},
     "output_type": "execute_result"
    }
   ],
   "source": [
    "Py2=matmul(transpose(Pk2),matmul(transpose(Pk1),Px))\n",
    "Py2"
   ]
  },
  {
   "cell_type": "code",
   "execution_count": 6,
   "metadata": {},
   "outputs": [
    {
     "data": {
      "text/plain": [
       "array([[0.6024],\n",
       "       [0.3976]])"
      ]
     },
     "execution_count": 6,
     "metadata": {},
     "output_type": "execute_result"
    }
   ],
   "source": [
    "Py3=matmul(transpose(Pk3),matmul(transpose(Pk2),matmul(transpose(Pk1),Px)))\n",
    "Py3"
   ]
  },
  {
   "cell_type": "code",
   "execution_count": 8,
   "metadata": {},
   "outputs": [
    {
     "data": {
      "text/plain": [
       "array([[0.58192],\n",
       "       [0.41808]])"
      ]
     },
     "execution_count": 8,
     "metadata": {},
     "output_type": "execute_result"
    }
   ],
   "source": [
    "Py=matmul(transpose(Pk4),matmul(transpose(Pk3),matmul(transpose(Pk2),matmul(transpose(Pk1),Px))))\n",
    "Py"
   ]
  },
  {
   "cell_type": "markdown",
   "metadata": {},
   "source": [
    "# N prehodov skozi asimetrični kanal"
   ]
  },
  {
   "cell_type": "code",
   "execution_count": 10,
   "metadata": {},
   "outputs": [
    {
     "data": {
      "text/plain": [
       "array([[0.4],\n",
       "       [0.6]])"
      ]
     },
     "execution_count": 10,
     "metadata": {},
     "output_type": "execute_result"
    }
   ],
   "source": [
    "N=100\n",
    "Px=array([[0.7], [0.3]])\n",
    "err0=0.3\n",
    "err1=0.2\n",
    "Pk=array([[1-err0, err0],[err1,1-err1]])\n",
    "Py=Px\n",
    "for n in range(0,N):\n",
    "    Py=matmul(transpose(Pk),Py)\n",
    "Py"
   ]
  }
 ],
 "metadata": {
  "kernelspec": {
   "display_name": "Python 3",
   "language": "python",
   "name": "python3"
  },
  "language_info": {
   "codemirror_mode": {
    "name": "ipython",
    "version": 3
   },
   "file_extension": ".py",
   "mimetype": "text/x-python",
   "name": "python",
   "nbconvert_exporter": "python",
   "pygments_lexer": "ipython3",
   "version": "3.8.5"
  }
 },
 "nbformat": 4,
 "nbformat_minor": 4
}
