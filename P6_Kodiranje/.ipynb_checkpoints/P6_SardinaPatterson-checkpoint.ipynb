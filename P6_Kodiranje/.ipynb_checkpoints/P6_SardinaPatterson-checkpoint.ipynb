{
 "cells": [
  {
   "cell_type": "markdown",
   "metadata": {},
   "source": [
    "# Licenca in podobno\n",
    "Kodo za algoritem sem našel na github-u: https://gist.github.com/lcpz/fc02cbf6f0108259302ee4b7d9924dbe\n",
    "Spremembe glede na original:\n",
    "Izpustil sem originalni uporabniški vmesnik in dodal primer klica funkcije za uporabo v JupyterLab-u.\n",
    "\n",
    "## License\n",
    "\n",
    "Copyright 2015 GoogleInc. All Rights Reserved.\n",
    "\n",
    "Licensed under the Apache License, Version 2.0 (the \"License\");\n",
    "you may not use this file except in compliance with the License.\n",
    "You may obtain a copy of the License at\n",
    "\n",
    "http://www.apache.org/licenses/LICENSE-2.0\n",
    "\n",
    "Unless required by applicable law or agreed to in writing, software\n",
    "distributed under the License is distributed on an \"AS IS\" BASIS,\n",
    "WITHOUT WARRANTIES OR CONDITIONS OF ANY KIND, either express or implied.\n",
    "See the License for the specific language governing permissions and\n",
    "limitations under the License.\n",
    "\n",
    "original: https://goo.gl/kkF5SY\n",
    "\n",
    "Check whether a given variable-length code is uniquely decodable.\n",
    "This is a direct/naive implementation of the Sardinas-Patterson algorithm.\n",
    "It can be used to check if e.g. a given phoneme inventory yields unambiguous\n",
    "transcriptions."
   ]
  },
  {
   "cell_type": "markdown",
   "metadata": {},
   "source": [
    "## Uporaba\n",
    "Najprej definiramo vse potrebne funkcije (poženemo spodnji blok, tako da kliknemo nanj in pritisnemo Ctrl+Enter),\n",
    "nato poženemo funkcijo IsUniquelyDecodable in ji podamo set kod (npr. IsUniquelyDecodable({'0','01','011','0111'}) )"
   ]
  },
  {
   "cell_type": "code",
   "execution_count": 10,
   "metadata": {},
   "outputs": [],
   "source": [
    "def LeftQuotientOfWord(ps, w):\n",
    "    \"\"\"Yields the suffixes of w after removing any prefix in ps.\"\"\"\n",
    "    for p in ps:\n",
    "        if w.startswith(p):\n",
    "            yield w[len(p):]\n",
    "    return\n",
    "\n",
    "def LeftQuotient(ps, ws):\n",
    "    \"\"\"Returns the set of suffixes of any word in ws after removing any prefix\n",
    "    in ps. This is the quotient set which results from dividing ws on the\n",
    "    left by ps.\"\"\"\n",
    "    qs = set()\n",
    "    for w in ws:\n",
    "        for q in LeftQuotientOfWord(ps, w):\n",
    "            qs.add(q)\n",
    "    return qs\n",
    "\n",
    "def IsUniquelyDecodable(cs):\n",
    "    \"\"\"Checks if the set of codewords cs is uniquely decodable via the\n",
    "    Sardinas-Patterson algorithm.\"\"\"\n",
    "    NL, i = len(str(cs)) * len(str(max(len(x) for x in cs))), 1 # Levenstein's upper bound for termination\n",
    "    s = LeftQuotient(cs, cs)\n",
    "    s.discard('')\n",
    "    if len(s) == 0:\n",
    "        print('Uniquely decodable prefix code.')\n",
    "        return True\n",
    "    while '' not in s and len(s & cs) == 0:\n",
    "        t = LeftQuotient(cs, s) | LeftQuotient(s, cs)\n",
    "        if t == s or i > NL + 1:\n",
    "            print('Uniquely decodable.')\n",
    "            return True\n",
    "        s = t\n",
    "        i += 1\n",
    "    if '' in s:\n",
    "        print('Dangling empty suffix.')\n",
    "    for x in s & cs:\n",
    "        print('Dangling suffix: {}'.format(x))\n",
    "    return False"
   ]
  },
  {
   "cell_type": "markdown",
   "metadata": {},
   "source": [
    "Primer testa kode:"
   ]
  },
  {
   "cell_type": "code",
   "execution_count": 11,
   "metadata": {},
   "outputs": [
    {
     "name": "stdout",
     "output_type": "stream",
     "text": [
      "Uniquely decodable.\n"
     ]
    },
    {
     "data": {
      "text/plain": [
       "True"
      ]
     },
     "execution_count": 11,
     "metadata": {},
     "output_type": "execute_result"
    }
   ],
   "source": [
    "IsUniquelyDecodable({'0','01','011','0111'})"
   ]
  },
  {
   "cell_type": "code",
   "execution_count": 16,
   "metadata": {},
   "outputs": [
    {
     "name": "stdout",
     "output_type": "stream",
     "text": [
      "Uniquely decodable prefix code.\n"
     ]
    },
    {
     "data": {
      "text/plain": [
       "True"
      ]
     },
     "execution_count": 16,
     "metadata": {},
     "output_type": "execute_result"
    }
   ],
   "source": [
    "IsUniquelyDecodable({'0','10','110','111'})"
   ]
  },
  {
   "cell_type": "code",
   "execution_count": 17,
   "metadata": {},
   "outputs": [
    {
     "name": "stdout",
     "output_type": "stream",
     "text": [
      "Uniquely decodable.\n"
     ]
    },
    {
     "data": {
      "text/plain": [
       "True"
      ]
     },
     "execution_count": 17,
     "metadata": {},
     "output_type": "execute_result"
    }
   ],
   "source": [
    "IsUniquelyDecodable({'0','01','011','111'})"
   ]
  },
  {
   "cell_type": "code",
   "execution_count": 14,
   "metadata": {},
   "outputs": [
    {
     "name": "stdout",
     "output_type": "stream",
     "text": [
      "Uniquely decodable prefix code.\n"
     ]
    },
    {
     "data": {
      "text/plain": [
       "True"
      ]
     },
     "execution_count": 14,
     "metadata": {},
     "output_type": "execute_result"
    }
   ],
   "source": [
    "IsUniquelyDecodable({'b','c','ab','ac','aab','aac'})"
   ]
  }
 ],
 "metadata": {
  "kernelspec": {
   "display_name": "Python 3",
   "language": "python",
   "name": "python3"
  },
  "language_info": {
   "codemirror_mode": {
    "name": "ipython",
    "version": 3
   },
   "file_extension": ".py",
   "mimetype": "text/x-python",
   "name": "python",
   "nbconvert_exporter": "python",
   "pygments_lexer": "ipython3",
   "version": "3.8.5"
  }
 },
 "nbformat": 4,
 "nbformat_minor": 4
}
