{
 "cells": [
  {
   "cell_type": "markdown",
   "metadata": {},
   "source": [
    "# Example Huffman coding implementation\n",
    "\n",
    "Distributions are represented as dictionaries of { 'symbol': probability }\n",
    "\n",
    "Codes are dictionaries too: { 'symbol': 'codeword' }"
   ]
  },
  {
   "cell_type": "code",
   "execution_count": 2,
   "metadata": {},
   "outputs": [],
   "source": [
    "from math import log2 as lb\n",
    "\n",
    "def huffman_r(p):\n",
    "    '''Return a Huffman code for an ensemble with distribution p.'''\n",
    "    assert(abs(sum(p.values())-1) < 0.00001) # Ensure probabilities sum to 1\n",
    "\n",
    "    # Base case of only two symbols, assign 0 or 1 arbitrarily\n",
    "    if(len(p) == 2):\n",
    "        return dict(zip(p.keys(), ['0', '1']))\n",
    "\n",
    "    # Create a new distribution by merging lowest prob. pair\n",
    "    p_prime = p.copy()\n",
    "    a1, a2 = lowest_prob_pair(p)\n",
    "    p1, p2 = p_prime.pop(a1), p_prime.pop(a2)\n",
    "    p_prime[a1 + a2] = p1 + p2\n",
    "\n",
    "    # Recurse and construct code on new distribution\n",
    "    c = huffman_r(p_prime)\n",
    "    ca1a2 = c.pop(a1 + a2)\n",
    "    c[a1], c[a2] = ca1a2 + '0', ca1a2 + '1'\n",
    "    return c\n",
    "\n",
    "def lowest_prob_pair(p):\n",
    "    '''Return pair of symbols from distribution p with lowest probabilities.'''\n",
    "    assert(len(p) >= 2) # Ensure there are at least 2 symbols in the dist.\n",
    "    sorted_p = sorted(p.items(), key=lambda x: x[1])\n",
    "    #print(p)\n",
    "    #print(sorted_p)\n",
    "    #print(\"\\n\")\n",
    "    return sorted_p[0][0], sorted_p[1][0]\n",
    "\n",
    "def huffman(p, verbose = True):\n",
    "    c = huffman_r(p)   #dictionary\n",
    "    cu = sorted(c.items(), key=lambda x: x[0]) #list of tupples\n",
    "    navg=0\n",
    "    H=0\n",
    "    if verbose:\n",
    "        print(\"#\\tSymbol\\tProb.\\tInf.[sh]\\tCode\\tlength\")\n",
    "    for i in range(0,len(cu)):\n",
    "        sim=cu[i][0]\n",
    "        Ix=-lb(p[sim])\n",
    "        if verbose:\n",
    "            print(\"%d\\t%s\\t%.3f\\t%.3f\\t\\t%s\\t%d\" %(i, sim, p[sim], -lb(p[sim]), c[sim], len(c[sim])))\n",
    "        navg = navg + len(c[sim])*p[sim]\n",
    "        H = H + p[sim]*Ix \n",
    "    if verbose:\n",
    "        print(\"navg =\",navg, \"H(Y) = %.3f, Rhc = %.3f%%\" %(H, (navg-H)/navg*100))\n",
    "    return c,navg,H\n",
    "\n",
    "def huffmanX(p,factor = 2, verbose = True):\n",
    "    pp=dict()\n",
    "    for idx in range(0,factor):\n",
    "        pp=expandCoding(p,pp)\n",
    "    [c,navg,H] = huffman(pp, verbose)\n",
    "    Hmax=lb(len(p))\n",
    "    if verbose:\n",
    "        print(\"Sum of probabilities error:%e\" %abs(sum(p.values())-1))\n",
    "        print(\"Inf. Src.: Hmax = %.3f, Rscr=%.3f%%\" %(Hmax, (Hmax-H)/Hmax*100))\n",
    "    print(\"Gospodarnost: H(X) = %.3f <= navg=%.3f <= H(X)+1/factor = %.3f :\" %(H/factor, navg/factor, (H+1)/factor) + str(H/factor <= navg/factor <= (H+1)/factor))\n",
    "    \n",
    "def expandCoding(p1,p2):\n",
    "    assert(len(p1)>=2)\n",
    "    if (len(p2)>0):\n",
    "        pp=dict()\n",
    "        for sim1 in p1:\n",
    "            for sim2 in p2:\n",
    "                pp[sim1+sim2]=p1[sim1]*p2[sim2]\n",
    "        return pp\n",
    "    else:\n",
    "        return p1"
   ]
  },
  {
   "cell_type": "code",
   "execution_count": 3,
   "metadata": {},
   "outputs": [
    {
     "name": "stdout",
     "output_type": "stream",
     "text": [
      "#\tSymbol\tProb.\tInf.[sh]\tCode\tlength\n",
      "0\tx1x1\t0.090\t3.474\t\t110\t3\n",
      "1\tx1x2\t0.210\t2.252\t\t111\t3\n",
      "2\tx2x1\t0.210\t2.252\t\t10\t2\n",
      "3\tx2x2\t0.490\t1.029\t\t0\t1\n",
      "navg = 1.81 H(Y) = 1.763, Rhc = 2.620%\n",
      "Sum of probabilities error:0.000000e+00\n",
      "Inf. Src.: Hmax = 1.000, Rscr=-76.258%\n",
      "Gospodarnost: H(X) = 0.881 <= navg=0.905 <= H(X)+1/factor = 1.381 :True\n"
     ]
    }
   ],
   "source": [
    "primer={'x1':0.3, 'x2':0.7}\n",
    "huffmanX(primer,2)"
   ]
  },
  {
   "cell_type": "code",
   "execution_count": 4,
   "metadata": {},
   "outputs": [
    {
     "name": "stdout",
     "output_type": "stream",
     "text": [
      "Gospodarnost: H(X) = 0.881 <= navg=1.000 <= H(X)+1/factor = 1.881 :True\n",
      "Gospodarnost: H(X) = 0.881 <= navg=0.905 <= H(X)+1/factor = 1.381 :True\n",
      "Gospodarnost: H(X) = 0.881 <= navg=0.909 <= H(X)+1/factor = 1.215 :True\n",
      "Gospodarnost: H(X) = 0.881 <= navg=0.892 <= H(X)+1/factor = 1.131 :True\n",
      "Gospodarnost: H(X) = 0.881 <= navg=0.889 <= H(X)+1/factor = 1.081 :True\n",
      "Gospodarnost: H(X) = 0.881 <= navg=0.888 <= H(X)+1/factor = 1.048 :True\n",
      "Gospodarnost: H(X) = 0.881 <= navg=0.884 <= H(X)+1/factor = 1.024 :True\n",
      "Gospodarnost: H(X) = 0.881 <= navg=0.886 <= H(X)+1/factor = 1.006 :True\n",
      "Gospodarnost: H(X) = 0.881 <= navg=0.884 <= H(X)+1/factor = 0.992 :True\n",
      "Gospodarnost: H(X) = 0.881 <= navg=0.884 <= H(X)+1/factor = 0.981 :True\n"
     ]
    }
   ],
   "source": [
    "for i in range(1,11):\n",
    "    huffmanX(primer,i, verbose = False)"
   ]
  },
  {
   "cell_type": "code",
   "execution_count": 5,
   "metadata": {},
   "outputs": [
    {
     "name": "stdout",
     "output_type": "stream",
     "text": [
      "#\tSymbol\tProb.\tInf.[sh]\tCode\tlength\n",
      "0\tx1\t0.900\t0.152\t\t0\t1\n",
      "1\tx2\t0.010\t6.644\t\t11110\t5\n",
      "2\tx3\t0.010\t6.644\t\t11111\t5\n",
      "3\tx4\t0.010\t6.644\t\t1000\t4\n",
      "4\tx5\t0.010\t6.644\t\t1001\t4\n",
      "5\tx6\t0.010\t6.644\t\t1010\t4\n",
      "6\tx7\t0.010\t6.644\t\t1011\t4\n",
      "7\tx8\t0.010\t6.644\t\t1110\t4\n",
      "8\tx9\t0.030\t5.059\t\t110\t3\n",
      "navg = 1.2900000000000003 H(Y) = 0.754, Rhc = 41.578%\n",
      "Sum of probabilities error:0.000000e+00\n",
      "Inf. Src.: Hmax = 3.170, Rscr=76.225%\n",
      "Gospodarnost: H(X) = 0.754 <= navg=1.290 <= H(X)+1/factor = 1.754 :True\n"
     ]
    }
   ],
   "source": [
    "primer={'x1':0.9, 'x2':0.01, 'x3':0.01, 'x4':0.01, 'x5':0.01, 'x6':0.01, 'x7':0.01, 'x8':0.01, 'x9':0.03}\n",
    "huffmanX(primer,1)"
   ]
  },
  {
   "cell_type": "code",
   "execution_count": 6,
   "metadata": {},
   "outputs": [
    {
     "data": {
      "text/plain": [
       "1.64"
      ]
     },
     "execution_count": 6,
     "metadata": {},
     "output_type": "execute_result"
    }
   ],
   "source": [
    ".9*1+0.01*7*8+.03*6"
   ]
  }
 ],
 "metadata": {
  "kernelspec": {
   "display_name": "Python 3 (ipykernel)",
   "language": "python",
   "name": "python3"
  },
  "language_info": {
   "codemirror_mode": {
    "name": "ipython",
    "version": 3
   },
   "file_extension": ".py",
   "mimetype": "text/x-python",
   "name": "python",
   "nbconvert_exporter": "python",
   "pygments_lexer": "ipython3",
   "version": "3.9.12"
  }
 },
 "nbformat": 4,
 "nbformat_minor": 4
}
