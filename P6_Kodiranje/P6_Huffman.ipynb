{
 "cells": [
  {
   "cell_type": "markdown",
   "metadata": {},
   "source": [
    "# Example Huffman coding implementation\n",
    "\n",
    "Distributions are represented as dictionaries of { 'symbol': probability }\n",
    "\n",
    "Codes are dictionaries too: { 'symbol': 'codeword' }"
   ]
  },
  {
   "cell_type": "code",
   "execution_count": 1,
   "metadata": {},
   "outputs": [],
   "source": [
    "from math import log2 as lb\n",
    "\n",
    "def huffman_r(p):\n",
    "    '''Return a Huffman code for an ensemble with distribution p.'''\n",
    "    assert(abs(sum(p.values())-1) < 0.00001) # Ensure probabilities sum to 1\n",
    "\n",
    "    # Base case of only two symbols, assign 0 or 1 arbitrarily\n",
    "    if(len(p) == 2):\n",
    "        return dict(zip(p.keys(), ['0', '1']))\n",
    "\n",
    "    # Create a new distribution by merging lowest prob. pair\n",
    "    p_prime = p.copy()\n",
    "    a1, a2 = lowest_prob_pair(p)\n",
    "    p1, p2 = p_prime.pop(a1), p_prime.pop(a2)\n",
    "    p_prime[a1 + a2] = p1 + p2\n",
    "\n",
    "    # Recurse and construct code on new distribution\n",
    "    c = huffman_r(p_prime)\n",
    "    ca1a2 = c.pop(a1 + a2)\n",
    "    c[a1], c[a2] = ca1a2 + '0', ca1a2 + '1'\n",
    "    return c\n",
    "\n",
    "def lowest_prob_pair(p):\n",
    "    '''Return pair of symbols from distribution p with lowest probabilities.'''\n",
    "    assert(len(p) >= 2) # Ensure there are at least 2 symbols in the dist.\n",
    "    sorted_p = sorted(p.items(), key=lambda x: x[1])\n",
    "    #print(p)\n",
    "    #print(sorted_p)\n",
    "    #print(\"\\n\")\n",
    "    return sorted_p[0][0], sorted_p[1][0]\n",
    "\n",
    "def huffman(p):\n",
    "    c = huffman_r(p)   #dictionary\n",
    "    cu = sorted(c.items(), key=lambda x: x[0]) #list of tupples\n",
    "    navg=0\n",
    "    H=0\n",
    "    Hmax=lb(len(c))\n",
    "    print(\"#\\tSymbol\\tProb.\\tCode\\tlength\")\n",
    "    for i in range(0,len(cu)):\n",
    "        sim=cu[i][0]\n",
    "        Ix=-lb(p[sim])\n",
    "        print(\"%d\\t%s\\t%.3f\\t%s\\t%d\" %(i, sim, p[sim], c[sim], len(c[sim])))\n",
    "        navg = navg + len(c[sim])*p[sim]\n",
    "        H = H + p[sim]*Ix \n",
    "    print(\"navg =\",navg, \"H(X) = %.3f, Rhc = %.3f%%\" %(H, (navg-H)/navg*100))\n",
    "    print(\"Inf. Src.: Hmax = %.3f, Rscr=%.3f%%\" %(Hmax, (Hmax-H)/Hmax*100))\n",
    "    return c\n",
    "\n",
    "def huffmanX(p,factor = 2):\n",
    "    pp=dict()\n",
    "    for idx in range(0,factor):\n",
    "        pp=expandCoding(p,pp)\n",
    "    print(\"Sum of probabilities error:%e\" %abs(sum(p.values())-1))\n",
    "    huffman(pp)\n",
    "    \n",
    "def expandCoding(p1,p2):\n",
    "    assert(len(p1)>=2)\n",
    "    if (len(p2)>0):\n",
    "        pp=dict()\n",
    "        for sim1 in p1:\n",
    "            for sim2 in p2:\n",
    "                pp[sim1+sim2]=p1[sim1]*p2[sim2]\n",
    "        return pp\n",
    "    else:\n",
    "        return p1"
   ]
  },
  {
   "cell_type": "code",
   "execution_count": 20,
   "metadata": {},
   "outputs": [
    {
     "name": "stdout",
     "output_type": "stream",
     "text": [
      "Sum of probabilities error:0.000000e+00\n",
      "#\tSymbol\tProb.\tCode\tlength\n",
      "0\tx1x1\t0.090\t110\t3\n",
      "1\tx1x2\t0.210\t111\t3\n",
      "2\tx2x1\t0.210\t10\t2\n",
      "3\tx2x2\t0.490\t0\t1\n",
      "navg = 1.81 H(X) = 1.763, Rhc = 2.620%\n",
      "Inf. Src.: Hmax = 2.000, Rscr=11.871%\n"
     ]
    }
   ],
   "source": [
    "primer={'x1':0.3, 'x2':0.7}\n",
    "huffmanX(primer,2)"
   ]
  }
 ],
 "metadata": {
  "kernelspec": {
   "display_name": "Python 3",
   "language": "python",
   "name": "python3"
  },
  "language_info": {
   "name": ""
  }
 },
 "nbformat": 4,
 "nbformat_minor": 4
}
