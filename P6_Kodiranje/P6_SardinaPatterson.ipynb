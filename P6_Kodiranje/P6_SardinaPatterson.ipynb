{
 "cells": [
  {
   "cell_type": "markdown",
   "metadata": {},
   "source": [
    "# Licenca in podobno\n",
    "Kodo za algoritem sem našel na github-u: https://gist.github.com/lcpz/fc02cbf6f0108259302ee4b7d9924dbe\n",
    "Spremembe glede na original:\n",
    "Izpustil sem originalni uporabniški vmesnik in dodal primer klica funkcije za uporabo v JupyterLab-u.\n",
    "\n",
    "## License\n",
    "\n",
    "Copyright 2015 GoogleInc. All Rights Reserved.\n",
    "\n",
    "Licensed under the Apache License, Version 2.0 (the \"License\");\n",
    "you may not use this file except in compliance with the License.\n",
    "You may obtain a copy of the License at\n",
    "\n",
    "http://www.apache.org/licenses/LICENSE-2.0\n",
    "\n",
    "Unless required by applicable law or agreed to in writing, software\n",
    "distributed under the License is distributed on an \"AS IS\" BASIS,\n",
    "WITHOUT WARRANTIES OR CONDITIONS OF ANY KIND, either express or implied.\n",
    "See the License for the specific language governing permissions and\n",
    "limitations under the License.\n",
    "\n",
    "original: https://goo.gl/kkF5SY\n",
    "\n",
    "Check whether a given variable-length code is uniquely decodable.\n",
    "This is a direct/naive implementation of the Sardinas-Patterson algorithm.\n",
    "It can be used to check if e.g. a given phoneme inventory yields unambiguous\n",
    "transcriptions."
   ]
  },
  {
   "cell_type": "markdown",
   "metadata": {},
   "source": [
    "## Uporaba\n",
    "Najprej definiramo vse potrebne funkcije (poženemo spodnji blok, tako da kliknemo nanj in pritisnemo Ctrl+Enter),\n",
    "nato poženemo funkcijo IsUniquelyDecodable in ji podamo set kod (npr. IsUniquelyDecodable({'0','01','011','0111'}) )\n",
    "\n",
    "### Pozor: \n",
    "Vhodni podatek je set, ki ne omogoča več enakih elementov. Zato funkcija ne bo ugotovila, da kode ni možno enolično dekodirati v trivialnem primeru, ko sta dve kodi popolnoma enaki. "
   ]
  },
  {
   "cell_type": "code",
   "execution_count": 83,
   "metadata": {},
   "outputs": [],
   "source": [
    "def LeftQuotientOfWord(ps, w):\n",
    "    \"\"\"Yields the suffixes of w after removing any prefix in ps.\"\"\"\n",
    "    for p in ps:\n",
    "        if w.startswith(p):\n",
    "            yield w[len(p):]\n",
    "    return\n",
    "\n",
    "def LeftQuotient(ps, ws):\n",
    "    \"\"\"Returns the set of suffixes of any word in ws after removing any prefix\n",
    "    in ps. This is the quotient set which results from dividing ws on the\n",
    "    left by ps.\"\"\"\n",
    "    qs = set()\n",
    "    for w in ws:\n",
    "        for q in LeftQuotientOfWord(ps, w):\n",
    "            qs.add(q)\n",
    "    return qs\n",
    "\n",
    "def IsUniquelyDecodable(cs):\n",
    "    \"\"\"Checks if the set of codewords cs is uniquely decodable via the\n",
    "    Sardinas-Patterson algorithm.\"\"\"\n",
    "    NL, i = len(str(cs)) * len(str(max(len(x) for x in cs))), 1 # Levenstein's upper bound for termination\n",
    "    s = LeftQuotient(cs, cs)\n",
    "    s.discard('')\n",
    "    if len(s) == 0:\n",
    "        print('Uniquely decodable prefix code.')\n",
    "        return True\n",
    "    while '' not in s and len(s & cs) == 0:\n",
    "        t = LeftQuotient(cs, s) | LeftQuotient(s, cs)\n",
    "        if t == s or i > NL + 1:\n",
    "            print('Uniquely decodable.')\n",
    "            return True\n",
    "        s = t\n",
    "        i += 1\n",
    "    if '' in s:\n",
    "        print('Dangling empty suffix.')\n",
    "    for x in s & cs:\n",
    "        print('Dangling suffix: {}'.format(x))\n",
    "    return False"
   ]
  },
  {
   "cell_type": "markdown",
   "metadata": {},
   "source": [
    "Primeri testa kode:"
   ]
  },
  {
   "cell_type": "code",
   "execution_count": 92,
   "metadata": {},
   "outputs": [
    {
     "name": "stdout",
     "output_type": "stream",
     "text": [
      "Dangling suffix: 01\n",
      "Dangling suffix: 0\n",
      "Dangling suffix: 1\n"
     ]
    },
    {
     "data": {
      "text/plain": [
       "False"
      ]
     },
     "execution_count": 92,
     "metadata": {},
     "output_type": "execute_result"
    }
   ],
   "source": [
    "IsUniquelyDecodable({'0','010','101','01','1'})"
   ]
  },
  {
   "cell_type": "code",
   "execution_count": 85,
   "metadata": {},
   "outputs": [
    {
     "name": "stdout",
     "output_type": "stream",
     "text": [
      "Uniquely decodable prefix code.\n"
     ]
    },
    {
     "data": {
      "text/plain": [
       "True"
      ]
     },
     "execution_count": 85,
     "metadata": {},
     "output_type": "execute_result"
    }
   ],
   "source": [
    "IsUniquelyDecodable({'0','10','110','111'})"
   ]
  },
  {
   "cell_type": "code",
   "execution_count": 86,
   "metadata": {},
   "outputs": [
    {
     "name": "stdout",
     "output_type": "stream",
     "text": [
      "Uniquely decodable.\n"
     ]
    },
    {
     "data": {
      "text/plain": [
       "True"
      ]
     },
     "execution_count": 86,
     "metadata": {},
     "output_type": "execute_result"
    }
   ],
   "source": [
    "IsUniquelyDecodable({'0','01','011','111'})"
   ]
  },
  {
   "cell_type": "code",
   "execution_count": 87,
   "metadata": {},
   "outputs": [
    {
     "name": "stdout",
     "output_type": "stream",
     "text": [
      "Uniquely decodable prefix code.\n"
     ]
    },
    {
     "data": {
      "text/plain": [
       "True"
      ]
     },
     "execution_count": 87,
     "metadata": {},
     "output_type": "execute_result"
    }
   ],
   "source": [
    "IsUniquelyDecodable({'b','c','ab','ac','aab','aac'})"
   ]
  },
  {
   "cell_type": "markdown",
   "metadata": {},
   "source": [
    "### Sledenje algoritmu\n",
    "Tu je še enkrat ista koda, tokrat z dodanimi izpisi, za lažje sledenje delovanju kode\n",
    "\n",
    "Nekaj komentarjev:\n",
    "\n",
    "    yield: sestavlja generatorski objekt (seznam rezultatov), ki ga na koncu funkcije vrne prazen return. V funkcije enkrat ali večkrat kličeš yield, ki vsakič na seznam (generatorski objekt) doda nov rezultat. Ko se funkcija zaključi vrne generatorski objekt z rezultati. Rezultate lahko pregledamo s for funkcijo.\n",
    "    \n",
    "    set: Večina spremenljivk so seti, ki se obnašajo kot množice: elementi niso oštevilčeni, dva enaka elementa ne moreta obstajati znotraj istega seta. Če poskusiš setu dodati element, ki že obstaja, se ne bo zgodilo nič. Operator | predstavlja unijo, operator & predstavlja presek"
   ]
  },
  {
   "cell_type": "code",
   "execution_count": 105,
   "metadata": {},
   "outputs": [],
   "source": [
    "def LeftQuotientOfWord(ps, w):\n",
    "    \"\"\"Yields the suffixes of w after removing any prefix in ps.\"\"\"\n",
    "    print('  LQOW(ps={}, w={})'.format(ps,w))\n",
    "    for p in ps:\n",
    "        if w.startswith(p):\n",
    "            print('    yield {}'.format(w[len(p):]))\n",
    "            yield w[len(p):]\n",
    "    print('  -----------------------------------------------')\n",
    "    return\n",
    "\n",
    "def LeftQuotient(ps, ws):\n",
    "    \"\"\"Returns the set of suffixes of any word in ws after removing any prefix\n",
    "    in ps. This is the quotient set which results from dividing ws on the\n",
    "    left by ps.\"\"\"\n",
    "    print('LQ(ps={}, ws={})'.format(ps,ws))\n",
    "    qs = set()\n",
    "    for w in ws:\n",
    "        for q in LeftQuotientOfWord(ps, w):\n",
    "            qs.add(q)\n",
    "    print('LQend (return {})'.format(qs))\n",
    "    print('****************************************')\n",
    "    return qs\n",
    "\n",
    "def IsUniquelyDecodable(cs):\n",
    "    \"\"\"Checks if the set of codewords cs is uniquely decodable via the\n",
    "    Sardinas-Patterson algorithm.\"\"\"\n",
    "    NL, i = len(str(cs)) * len(str(max(len(x) for x in cs))), 1 # Levenstein's upper bound for termination\n",
    "    s = LeftQuotient(cs, cs)\n",
    "    s.discard('')\n",
    "    print('End of first search for prefixes. s={} cs={}'.format(s,cs))\n",
    "    if len(s) == 0:\n",
    "        print('Uniquely decodable prefix code.')\n",
    "        return True\n",
    "    while '' not in s and len(s & cs) == 0:\n",
    "        t = LeftQuotient(cs, s) | LeftQuotient(s, cs)\n",
    "        print('s={} cs={} t={}'.format(s,cs,t))\n",
    "        if t == s or i > NL + 1:\n",
    "            print('Uniquely decodable.')\n",
    "            return True\n",
    "        s = t\n",
    "        i += 1\n",
    "    if '' in s:\n",
    "        print('Dangling empty suffix.')\n",
    "    for x in s & cs:\n",
    "        print('Dangling suffix: {}'.format(x))\n",
    "    return False"
   ]
  },
  {
   "cell_type": "code",
   "execution_count": 107,
   "metadata": {},
   "outputs": [
    {
     "name": "stdout",
     "output_type": "stream",
     "text": [
      "LQ(ps={'101', '0', '010'}, ws={'101', '0', '010'})\n",
      "  LQOW(ps={'101', '0', '010'}, w=101)\n",
      "    yield \n",
      "  -----------------------------------------------\n",
      "  LQOW(ps={'101', '0', '010'}, w=0)\n",
      "    yield \n",
      "  -----------------------------------------------\n",
      "  LQOW(ps={'101', '0', '010'}, w=010)\n",
      "    yield 10\n",
      "    yield \n",
      "  -----------------------------------------------\n",
      "LQend (return {'', '10'})\n",
      "****************************************\n",
      "End of first search for prefixes. s={'10'} cs={'101', '0', '010'}\n",
      "LQ(ps={'101', '0', '010'}, ws={'10'})\n",
      "  LQOW(ps={'101', '0', '010'}, w=10)\n",
      "  -----------------------------------------------\n",
      "LQend (return set())\n",
      "****************************************\n",
      "LQ(ps={'10'}, ws={'101', '0', '010'})\n",
      "  LQOW(ps={'10'}, w=101)\n",
      "    yield 1\n",
      "  -----------------------------------------------\n",
      "  LQOW(ps={'10'}, w=0)\n",
      "  -----------------------------------------------\n",
      "  LQOW(ps={'10'}, w=010)\n",
      "  -----------------------------------------------\n",
      "LQend (return {'1'})\n",
      "****************************************\n",
      "s={'10'} cs={'101', '0', '010'} t={'1'}\n",
      "LQ(ps={'101', '0', '010'}, ws={'1'})\n",
      "  LQOW(ps={'101', '0', '010'}, w=1)\n",
      "  -----------------------------------------------\n",
      "LQend (return set())\n",
      "****************************************\n",
      "LQ(ps={'1'}, ws={'101', '0', '010'})\n",
      "  LQOW(ps={'1'}, w=101)\n",
      "    yield 01\n",
      "  -----------------------------------------------\n",
      "  LQOW(ps={'1'}, w=0)\n",
      "  -----------------------------------------------\n",
      "  LQOW(ps={'1'}, w=010)\n",
      "  -----------------------------------------------\n",
      "LQend (return {'01'})\n",
      "****************************************\n",
      "s={'1'} cs={'101', '0', '010'} t={'01'}\n",
      "LQ(ps={'101', '0', '010'}, ws={'01'})\n",
      "  LQOW(ps={'101', '0', '010'}, w=01)\n",
      "    yield 1\n",
      "  -----------------------------------------------\n",
      "LQend (return {'1'})\n",
      "****************************************\n",
      "LQ(ps={'01'}, ws={'101', '0', '010'})\n",
      "  LQOW(ps={'01'}, w=101)\n",
      "  -----------------------------------------------\n",
      "  LQOW(ps={'01'}, w=0)\n",
      "  -----------------------------------------------\n",
      "  LQOW(ps={'01'}, w=010)\n",
      "    yield 0\n",
      "  -----------------------------------------------\n",
      "LQend (return {'0'})\n",
      "****************************************\n",
      "s={'01'} cs={'101', '0', '010'} t={'0', '1'}\n",
      "Dangling suffix: 0\n"
     ]
    },
    {
     "data": {
      "text/plain": [
       "False"
      ]
     },
     "execution_count": 107,
     "metadata": {},
     "output_type": "execute_result"
    }
   ],
   "source": [
    "IsUniquelyDecodable({'0','010','101'})"
   ]
  }
 ],
 "metadata": {
  "kernelspec": {
   "display_name": "Python 3",
   "language": "python",
   "name": "python3"
  },
  "language_info": {
   "codemirror_mode": {
    "name": "ipython",
    "version": 3
   },
   "file_extension": ".py",
   "mimetype": "text/x-python",
   "name": "python",
   "nbconvert_exporter": "python",
   "pygments_lexer": "ipython3",
   "version": "3.8.5"
  }
 },
 "nbformat": 4,
 "nbformat_minor": 4
}
